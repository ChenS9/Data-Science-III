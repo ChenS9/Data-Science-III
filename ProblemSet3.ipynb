{
 "cells": [
  {
   "cell_type": "markdown",
   "metadata": {},
   "source": [
    "# Part one: Set-up"
   ]
  },
  {
   "cell_type": "markdown",
   "metadata": {},
   "source": [
    "## #1\n",
    "### Build training and test dataframe"
   ]
  },
  {
   "cell_type": "code",
   "execution_count": 1,
   "metadata": {
    "scrolled": false
   },
   "outputs": [
    {
     "name": "stdout",
     "output_type": "stream",
     "text": [
      "The shape of train dataframe is (528, 1)\n",
      "The shape of test dataframe is (111, 1)\n"
     ]
    }
   ],
   "source": [
    "#1\n",
    "import pandas as pd\n",
    "import glob\n",
    "# build a train dataframe\n",
    "train_data = []\n",
    "train_files = glob.glob('/Users/chensong/UW/2020spring/575B/Problem_set/problemset3/train/*.txt')\n",
    "for f in train_files:\n",
    "    with open (f, \"r\") as trainfile:\n",
    "        train_data.append(trainfile.read())\n",
    "df_train = pd.DataFrame(train_data, columns=['text'])\n",
    "# build a test dataframe\n",
    "test_data = []\n",
    "test_files = glob.glob('/Users/chensong/UW/2020spring/575B/Problem_set/problemset3/test/*.txt')\n",
    "for f_test in test_files:\n",
    "    with open(f_test, \"r\") as testfile:\n",
    "        test_data.append(testfile.read())\n",
    "df_test = pd.DataFrame(test_data, columns=['text'])\n",
    "# print the shape of train and test dataframe\n",
    "print(f\"The shape of train dataframe is {df_train.shape}\")\n",
    "print(f\"The shape of test dataframe is {df_test.shape}\")\n"
   ]
  },
  {
   "cell_type": "markdown",
   "metadata": {},
   "source": [
    "## #2\n",
    "### Create training labels"
   ]
  },
  {
   "cell_type": "code",
   "execution_count": 2,
   "metadata": {
    "scrolled": true
   },
   "outputs": [
    {
     "name": "stdout",
     "output_type": "stream",
     "text": [
      "528\n"
     ]
    },
    {
     "data": {
      "text/html": [
       "<div>\n",
       "<style scoped>\n",
       "    .dataframe tbody tr th:only-of-type {\n",
       "        vertical-align: middle;\n",
       "    }\n",
       "\n",
       "    .dataframe tbody tr th {\n",
       "        vertical-align: top;\n",
       "    }\n",
       "\n",
       "    .dataframe thead th {\n",
       "        text-align: right;\n",
       "    }\n",
       "</style>\n",
       "<table border=\"1\" class=\"dataframe\">\n",
       "  <thead>\n",
       "    <tr style=\"text-align: right;\">\n",
       "      <th></th>\n",
       "      <th>text</th>\n",
       "    </tr>\n",
       "  </thead>\n",
       "  <tbody>\n",
       "    <tr>\n",
       "      <th>0</th>\n",
       "      <td>Five million assault weapons are on the stree...</td>\n",
       "    </tr>\n",
       "    <tr>\n",
       "      <th>1</th>\n",
       "      <td>So what I am saying is that it seems to me th...</td>\n",
       "    </tr>\n",
       "    <tr>\n",
       "      <th>2</th>\n",
       "      <td>Who has spent full time… Who has spent full t...</td>\n",
       "    </tr>\n",
       "    <tr>\n",
       "      <th>3</th>\n",
       "      <td>So let’s be clear, whenever someone hears the...</td>\n",
       "    </tr>\n",
       "    <tr>\n",
       "      <th>4</th>\n",
       "      <td>This morning. I announced this morning that I...</td>\n",
       "    </tr>\n",
       "  </tbody>\n",
       "</table>\n",
       "</div>"
      ],
      "text/plain": [
       "                                                text\n",
       "0   Five million assault weapons are on the stree...\n",
       "1   So what I am saying is that it seems to me th...\n",
       "2   Who has spent full time… Who has spent full t...\n",
       "3   So let’s be clear, whenever someone hears the...\n",
       "4   This morning. I announced this morning that I..."
      ]
     },
     "execution_count": 2,
     "metadata": {},
     "output_type": "execute_result"
    }
   ],
   "source": [
    "#2\n",
    "import numpy as np\n",
    "#iterate every row and get the first two words as labels\n",
    "train_labels = []\n",
    "train_text = []\n",
    "for index, row in df_train.iterrows():\n",
    "    split_words = row[0].split(\":\")\n",
    "    train_labels.append(split_words[0])\n",
    "    train_text.append(split_words[1])    \n",
    "label_vector = np.asarray(train_labels)\n",
    "# check the length of label_vector\n",
    "print(len(label_vector))\n",
    "# delete the label words in the training text\n",
    "df_training = pd.DataFrame(df_train['text'].apply(lambda row: row.split(\":\")[1]))\n",
    "# check the df_training\n",
    "df_training.head()\n"
   ]
  },
  {
   "cell_type": "markdown",
   "metadata": {},
   "source": [
    "### Compare the file names with the start of the text"
   ]
  },
  {
   "cell_type": "code",
   "execution_count": 3,
   "metadata": {
    "scrolled": true
   },
   "outputs": [
    {
     "name": "stdout",
     "output_type": "stream",
     "text": [
      "set()\n"
     ]
    },
    {
     "data": {
      "text/plain": [
       "0"
      ]
     },
     "execution_count": 3,
     "metadata": {},
     "output_type": "execute_result"
    }
   ],
   "source": [
    "#Extract the file names\n",
    "import os\n",
    "filenames_list = []\n",
    "for file in train_files:\n",
    "    filenames_extension = os.path.splitext(os.path.basename(file))[0]\n",
    "    filenames_tidy = filenames_extension.split(\"_\")[0]\n",
    "    filenames_list.append(filenames_tidy)\n",
    "#Extract the last name of train labels\n",
    "train_label_last_name = [i.split(' ')[1] for i in train_labels]\n",
    "# find the difference\n",
    "differences = set(filenames_list) - set(train_label_last_name)\n",
    "print(differences)\n",
    "len(differences)"
   ]
  },
  {
   "cell_type": "markdown",
   "metadata": {},
   "source": [
    "#### From the differences results, we can see that there no unmatched names."
   ]
  },
  {
   "cell_type": "markdown",
   "metadata": {},
   "source": [
    "### Distribution of labels"
   ]
  },
  {
   "cell_type": "code",
   "execution_count": 4,
   "metadata": {
    "scrolled": true
   },
   "outputs": [
    {
     "data": {
      "text/plain": [
       "Text(0, 0.5, 'Counts of labels')"
      ]
     },
     "execution_count": 4,
     "metadata": {},
     "output_type": "execute_result"
    },
    {
     "data": {
      "image/png": "[encoded data removed]",
      "text/plain": [
       "<Figure size 432x288 with 1 Axes>"
      ]
     },
     "metadata": {
      "needs_background": "light"
     },
     "output_type": "display_data"
    }
   ],
   "source": [
    "import matplotlib.pyplot as plt\n",
    "import seaborn as sns\n",
    "\n",
    "# matplotlib histogram\n",
    "plt.hist(label_vector, color = '#F0E442', edgecolor = 'black',\n",
    "         bins = int(180/5))\n",
    "plt.xticks(rotation=45)\n",
    "# Add labels\n",
    "plt.title('Histogram of training labels')\n",
    "plt.xlabel('Labels')\n",
    "plt.ylabel('Counts of labels')\n"
   ]
  },
  {
   "cell_type": "markdown",
   "metadata": {},
   "source": [
    "##### From the plot, we can see that Elizabeth Warren label has the most frequency, and the Tulsi Gabbard has the least frequency. The most\n",
    "##### frequency is 80 and the lowest frequency is near 20. What's more, most of the counts are between 40 times to 60 times."
   ]
  },
  {
   "cell_type": "markdown",
   "metadata": {},
   "source": [
    "## #3\n",
    "### Deal with the text in the training data"
   ]
  },
  {
   "cell_type": "code",
   "execution_count": 5,
   "metadata": {
    "scrolled": false
   },
   "outputs": [],
   "source": [
    "from nltk.corpus import stopwords\n",
    "# Convert to lower case\n",
    "df_training = df_training.apply(lambda x: x.astype(str).str.lower())\n",
    "# Romove punctuation\n",
    "df_training = df_training.apply(lambda x: x.astype(str).str.replace('[^\\w\\s]',' '))\n",
    "# split the sentence to words\n",
    "df_tokens = df_training.apply(lambda x : x.astype(str).str.split() )\n",
    "# Romove stopwords\n",
    "stop_words = stopwords.words('english')\n",
    "df_token_nsw = pd.DataFrame(df_tokens['text'].apply(lambda x: [item for item in x if item not in stop_words]))\n",
    "\n"
   ]
  },
  {
   "cell_type": "markdown",
   "metadata": {},
   "source": [
    "##### Roughly looking through the token words after filtered out the stop words in the NLTK package, I find that some verb words such as think, tell, go, see are visible frequently in the whole data, and modal verbs such as will, can, get are pretty frequent too. However, these words help little in analyzing the topic types because the whold data is about people's opinions on the election. So the word \"think\", \"see\", \"go\" has nothing to do with the election/politics but a way people using to express the sentence. What's more, there are some numbers that are splited by the space such as '000', '10', '05' are also not helpful to address the topic identification.So the first step I am doing here is to delete these \"useless words\" according to the first glance and common sense. Next, I think a word clouds can help me further filter the stop word. I think it is helpful because from the word clouds I can get the most frequent words, then I can analyze whether these most fequent words are helpful to the topics."
   ]
  },
  {
   "cell_type": "markdown",
   "metadata": {},
   "source": [
    "### Word cloud"
   ]
  },
  {
   "cell_type": "code",
   "execution_count": 6,
   "metadata": {},
   "outputs": [],
   "source": [
    "# make a word cloud list\n",
    "cloud_list = []\n",
    "for index, row in df_token_nsw.iterrows():\n",
    "    for word in row[0]:\n",
    "        cloud_list.append(word)\n",
    "# join every word in the list\n",
    "comment = \" \".join(w for w in cloud_list)\n",
    "           "
   ]
  },
  {
   "cell_type": "code",
   "execution_count": 7,
   "metadata": {
    "scrolled": true
   },
   "outputs": [
    {
     "data": {
      "image/png": "[encoded data removed]",
      "text/plain": [
       "<Figure size 432x432 with 1 Axes>"
      ]
     },
     "metadata": {
      "needs_background": "light"
     },
     "output_type": "display_data"
    }
   ],
   "source": [
    "from wordcloud import WordCloud\n",
    "# create a word cloud\n",
    "wordcloud_comment = WordCloud(width = 800, height = 500, \n",
    "                background_color ='white',  \n",
    "                min_font_size = 10).generate(comment) \n",
    "# plot the WordCloud image                        \n",
    "plt.figure(figsize = (6, 6), facecolor = None) \n",
    "plt.imshow(wordcloud_comment) \n",
    "plt.axis(\"off\") \n",
    "plt.tight_layout(pad = 0) \n",
    "  \n",
    "plt.show()"
   ]
  },
  {
   "cell_type": "markdown",
   "metadata": {},
   "source": [
    "##### From the word cloud, we can definitely further filter the stop words. We can go with the most noticable words which show most  frequently but not useful for the topic recognize in our case. In my opinion, words such as \"people\", \"country\", \"america\", \"president\", \"healthcare\", \"right\", \"job\" are significant in our case because these words are the main words in politics, so these words should be kept. However, words such as \"us\", \"going\", \"one\", \"say\", \" said\" , \" think\", \"take\", \" every\" , \"thing\" , \"see\", \"let\" are useless to define the topic as I mentioned when I did the first glance at the whole data. So I will consider these words as specific stop words in this case and I will remove them."
   ]
  },
  {
   "cell_type": "markdown",
   "metadata": {},
   "source": [
    "### Remove the specific stopwords"
   ]
  },
  {
   "cell_type": "code",
   "execution_count": 8,
   "metadata": {},
   "outputs": [],
   "source": [
    "# build a specific stop words list\n",
    "specific_stopwords = ['going', 'go', 'think', 'one', 'need', 'us', 'got', 'say', 'saying', 'want', 'every', 'make',\n",
    "                     'let', 'see', 'must', 'made', 'take', 'taking', 'someone', '000','02', '040','05','10', '100',\n",
    "                     '1000','people']\n",
    "# remove the specific stop words in the training data\n",
    "df_token_nsw = pd.DataFrame(df_tokens['text'].apply(lambda x: [item for item in x if ((item not in stop_words) & (item not in specific_stopwords))]))\n",
    "df_training = df_token_nsw['text'].apply(lambda x: \" \".join (word for word in x))"
   ]
  },
  {
   "cell_type": "markdown",
   "metadata": {},
   "source": [
    "## #4\n",
    "### Stem/lemmatize the data"
   ]
  },
  {
   "cell_type": "code",
   "execution_count": 9,
   "metadata": {},
   "outputs": [],
   "source": [
    "# stemmer\n",
    "from nltk.stem import PorterStemmer\n",
    "stemmerport = PorterStemmer()\n",
    "df_training_stem = df_training.apply(lambda x: ' '.join([stemmerport.stem(word) for word in x.split()]))"
   ]
  },
  {
   "cell_type": "code",
   "execution_count": 10,
   "metadata": {
    "scrolled": true
   },
   "outputs": [
    {
     "name": "stdout",
     "output_type": "stream",
     "text": [
      "problem poll problem polici lesson courag polit person everyon stage determin get someth done everyon stage recogn least thought problem democrat agre particular idea handl problem nation rifl associ enabl congress unit fight\n",
      "issu think dad tonight sit kitchen tabl everyon gone sleep sit cup tea coffe tri figur work probabl sit decid minimum wage job pay enough meet bill end month start drive uber mean mean two job miss kid soccer game realiti american today ye pass get elect pass bill give american famili make less year tax credit 6 year home 500 month real differ man life tell big deal tri get end month\n"
     ]
    }
   ],
   "source": [
    "print(df_training_stem[6])\n",
    "print(df_training_stem[500])"
   ]
  },
  {
   "cell_type": "code",
   "execution_count": 11,
   "metadata": {
    "scrolled": true
   },
   "outputs": [
    {
     "name": "stdout",
     "output_type": "stream",
     "text": [
      "problem polls problem policy lessons courage political personal everyone stage determined get something done everyone stage recognizes least thought problem democrats agree particular idea handle problem national rifle association enablers congress united fight\n",
      "issue thinking dad tonight sitting kitchen table everyone gone sleep sitting cup tea coffee trying figure work probably sitting deciding minimum wage job pay enough meet bills end month start driving uber mean means two jobs miss kids soccer games reality americans today yes pass get elected pass bill give american family makes less year tax credit 6 year home 500 month real difference man life tell big deal trying get end month\n"
     ]
    }
   ],
   "source": [
    "print(df_training[6])\n",
    "print(df_training[500])"
   ]
  },
  {
   "cell_type": "markdown",
   "metadata": {},
   "source": [
    "##### From the results above , we can see that after stemmering, the affix is removed. The stemmer remove the affix of pural words, past-tense word and \"-ing\" form. So compared the results, it is noticable that the words ending with \"e\", \"ed\", \"s\", \"ing\", \"y\" are changed by removing these affix. The root word is kept."
   ]
  },
  {
   "cell_type": "code",
   "execution_count": 12,
   "metadata": {},
   "outputs": [],
   "source": [
    "# lemmatizer\n",
    "from nltk.stem import WordNetLemmatizer \n",
    "lemmatizer = WordNetLemmatizer() \n",
    "df_training_lemmatizer = df_training.apply(lambda x: ' '.join([lemmatizer.lemmatize(word) for word in x.split()]))"
   ]
  },
  {
   "cell_type": "code",
   "execution_count": 13,
   "metadata": {
    "scrolled": true
   },
   "outputs": [
    {
     "name": "stdout",
     "output_type": "stream",
     "text": [
      "problem poll problem policy lesson courage political personal everyone stage determined get something done everyone stage recognizes least thought problem democrat agree particular idea handle problem national rifle association enablers congress united fight\n",
      "issue thinking dad tonight sitting kitchen table everyone gone sleep sitting cup tea coffee trying figure work probably sitting deciding minimum wage job pay enough meet bill end month start driving uber mean mean two job miss kid soccer game reality american today yes pas get elected pas bill give american family make le year tax credit 6 year home 500 month real difference man life tell big deal trying get end month\n"
     ]
    }
   ],
   "source": [
    "\n",
    "print(df_training_lemmatizer[6])\n",
    "print(df_training_lemmatizer[500])"
   ]
  },
  {
   "cell_type": "markdown",
   "metadata": {},
   "source": [
    "\n",
    "\n",
    "##### From the results, we can see the difference between stemmer and lemmatizer in NLTK. Stemmer just cut the end or the beginning of the word regradless of the morphology of the word. However, Lemmatizer works with consideration of the morphology of the words. So that's why after stemmering, we can see that some words are wrong, such as \"determin\", realiti\". But the words after lemmatizering are right spelled."
   ]
  },
  {
   "cell_type": "markdown",
   "metadata": {},
   "source": [
    "## #5\n",
    "### Tokenize training data using unigrams"
   ]
  },
  {
   "cell_type": "code",
   "execution_count": 14,
   "metadata": {},
   "outputs": [
    {
     "data": {
      "text/plain": [
       "(528, 4228)"
      ]
     },
     "execution_count": 14,
     "metadata": {},
     "output_type": "execute_result"
    }
   ],
   "source": [
    "from sklearn.feature_extraction.text import CountVectorizer\n",
    "vectorizer = CountVectorizer()\n",
    "vectorizer.fit(df_training_lemmatizer)\n",
    "counts_training = vectorizer.transform(df_training_lemmatizer)\n",
    "counts_training = counts_training.toarray()\n",
    "counts_training.shape"
   ]
  },
  {
   "cell_type": "code",
   "execution_count": 15,
   "metadata": {
    "scrolled": false
   },
   "outputs": [
    {
     "data": {
      "text/plain": [
       "4228"
      ]
     },
     "execution_count": 15,
     "metadata": {},
     "output_type": "execute_result"
    }
   ],
   "source": [
    "# check the length of feature names \n",
    "len(vectorizer.get_feature_names())"
   ]
  },
  {
   "cell_type": "code",
   "execution_count": 16,
   "metadata": {
    "scrolled": false
   },
   "outputs": [
    {
     "data": {
      "text/html": [
       "<div>\n",
       "<style scoped>\n",
       "    .dataframe tbody tr th:only-of-type {\n",
       "        vertical-align: middle;\n",
       "    }\n",
       "\n",
       "    .dataframe tbody tr th {\n",
       "        vertical-align: top;\n",
       "    }\n",
       "\n",
       "    .dataframe thead th {\n",
       "        text-align: right;\n",
       "    }\n",
       "</style>\n",
       "<table border=\"1\" class=\"dataframe\">\n",
       "  <thead>\n",
       "    <tr style=\"text-align: right;\">\n",
       "      <th></th>\n",
       "      <th>10th</th>\n",
       "      <th>11</th>\n",
       "      <th>12</th>\n",
       "      <th>12th</th>\n",
       "      <th>13</th>\n",
       "      <th>130</th>\n",
       "      <th>14</th>\n",
       "      <th>140</th>\n",
       "      <th>149</th>\n",
       "      <th>15</th>\n",
       "      <th>...</th>\n",
       "      <th>yesterday</th>\n",
       "      <th>yet</th>\n",
       "      <th>yogi</th>\n",
       "      <th>york</th>\n",
       "      <th>young</th>\n",
       "      <th>younger</th>\n",
       "      <th>zealand</th>\n",
       "      <th>zelensky</th>\n",
       "      <th>zero</th>\n",
       "      <th>zuckerberg</th>\n",
       "    </tr>\n",
       "  </thead>\n",
       "  <tbody>\n",
       "    <tr>\n",
       "      <th>0</th>\n",
       "      <td>0</td>\n",
       "      <td>0</td>\n",
       "      <td>0</td>\n",
       "      <td>0</td>\n",
       "      <td>0</td>\n",
       "      <td>0</td>\n",
       "      <td>0</td>\n",
       "      <td>0</td>\n",
       "      <td>0</td>\n",
       "      <td>0</td>\n",
       "      <td>...</td>\n",
       "      <td>0</td>\n",
       "      <td>0</td>\n",
       "      <td>0</td>\n",
       "      <td>0</td>\n",
       "      <td>1</td>\n",
       "      <td>0</td>\n",
       "      <td>0</td>\n",
       "      <td>0</td>\n",
       "      <td>0</td>\n",
       "      <td>0</td>\n",
       "    </tr>\n",
       "    <tr>\n",
       "      <th>1</th>\n",
       "      <td>0</td>\n",
       "      <td>0</td>\n",
       "      <td>0</td>\n",
       "      <td>0</td>\n",
       "      <td>0</td>\n",
       "      <td>0</td>\n",
       "      <td>0</td>\n",
       "      <td>0</td>\n",
       "      <td>0</td>\n",
       "      <td>0</td>\n",
       "      <td>...</td>\n",
       "      <td>0</td>\n",
       "      <td>0</td>\n",
       "      <td>0</td>\n",
       "      <td>0</td>\n",
       "      <td>0</td>\n",
       "      <td>0</td>\n",
       "      <td>0</td>\n",
       "      <td>0</td>\n",
       "      <td>0</td>\n",
       "      <td>0</td>\n",
       "    </tr>\n",
       "    <tr>\n",
       "      <th>2</th>\n",
       "      <td>0</td>\n",
       "      <td>0</td>\n",
       "      <td>0</td>\n",
       "      <td>0</td>\n",
       "      <td>0</td>\n",
       "      <td>0</td>\n",
       "      <td>0</td>\n",
       "      <td>0</td>\n",
       "      <td>0</td>\n",
       "      <td>0</td>\n",
       "      <td>...</td>\n",
       "      <td>0</td>\n",
       "      <td>0</td>\n",
       "      <td>0</td>\n",
       "      <td>0</td>\n",
       "      <td>0</td>\n",
       "      <td>0</td>\n",
       "      <td>0</td>\n",
       "      <td>0</td>\n",
       "      <td>0</td>\n",
       "      <td>0</td>\n",
       "    </tr>\n",
       "    <tr>\n",
       "      <th>3</th>\n",
       "      <td>0</td>\n",
       "      <td>0</td>\n",
       "      <td>0</td>\n",
       "      <td>0</td>\n",
       "      <td>0</td>\n",
       "      <td>0</td>\n",
       "      <td>0</td>\n",
       "      <td>0</td>\n",
       "      <td>0</td>\n",
       "      <td>0</td>\n",
       "      <td>...</td>\n",
       "      <td>0</td>\n",
       "      <td>0</td>\n",
       "      <td>0</td>\n",
       "      <td>0</td>\n",
       "      <td>0</td>\n",
       "      <td>0</td>\n",
       "      <td>0</td>\n",
       "      <td>0</td>\n",
       "      <td>0</td>\n",
       "      <td>0</td>\n",
       "    </tr>\n",
       "    <tr>\n",
       "      <th>4</th>\n",
       "      <td>0</td>\n",
       "      <td>0</td>\n",
       "      <td>0</td>\n",
       "      <td>0</td>\n",
       "      <td>0</td>\n",
       "      <td>0</td>\n",
       "      <td>0</td>\n",
       "      <td>0</td>\n",
       "      <td>0</td>\n",
       "      <td>0</td>\n",
       "      <td>...</td>\n",
       "      <td>0</td>\n",
       "      <td>0</td>\n",
       "      <td>0</td>\n",
       "      <td>0</td>\n",
       "      <td>0</td>\n",
       "      <td>0</td>\n",
       "      <td>0</td>\n",
       "      <td>0</td>\n",
       "      <td>0</td>\n",
       "      <td>0</td>\n",
       "    </tr>\n",
       "  </tbody>\n",
       "</table>\n",
       "<p>5 rows × 4228 columns</p>\n",
       "</div>"
      ],
      "text/plain": [
       "   10th  11  12  12th  13  130  14  140  149  15  ...  yesterday  yet  yogi  \\\n",
       "0     0   0   0     0   0    0   0    0    0   0  ...          0    0     0   \n",
       "1     0   0   0     0   0    0   0    0    0   0  ...          0    0     0   \n",
       "2     0   0   0     0   0    0   0    0    0   0  ...          0    0     0   \n",
       "3     0   0   0     0   0    0   0    0    0   0  ...          0    0     0   \n",
       "4     0   0   0     0   0    0   0    0    0   0  ...          0    0     0   \n",
       "\n",
       "   york  young  younger  zealand  zelensky  zero  zuckerberg  \n",
       "0     0      1        0        0         0     0           0  \n",
       "1     0      0        0        0         0     0           0  \n",
       "2     0      0        0        0         0     0           0  \n",
       "3     0      0        0        0         0     0           0  \n",
       "4     0      0        0        0         0     0           0  \n",
       "\n",
       "[5 rows x 4228 columns]"
      ]
     },
     "execution_count": 16,
     "metadata": {},
     "output_type": "execute_result"
    }
   ],
   "source": [
    "# convert counts to a data frame\n",
    "counts_training = pd.DataFrame(counts_training, columns = vectorizer.get_feature_names())\n",
    "counts_training.head()"
   ]
  },
  {
   "cell_type": "markdown",
   "metadata": {},
   "source": [
    "### Set the lower and upper limits"
   ]
  },
  {
   "cell_type": "code",
   "execution_count": 17,
   "metadata": {},
   "outputs": [
    {
     "data": {
      "text/plain": [
       "(528, 873)"
      ]
     },
     "execution_count": 17,
     "metadata": {},
     "output_type": "execute_result"
    }
   ],
   "source": [
    "# remove terms that appear too infrequently\n",
    "# ignore terms that appear in less than 1% of the documents\n",
    "vec_upper = CountVectorizer(min_df = 0.01)\n",
    "vec_upper.fit(df_training_lemmatizer)\n",
    "counts_upper = vec_upper.transform(df_training_lemmatizer)\n",
    "counts_upper = counts_upper.toarray()\n",
    "counts_upper.shape"
   ]
  },
  {
   "cell_type": "code",
   "execution_count": 18,
   "metadata": {},
   "outputs": [
    {
     "data": {
      "text/plain": [
       "(528, 4217)"
      ]
     },
     "execution_count": 18,
     "metadata": {},
     "output_type": "execute_result"
    }
   ],
   "source": [
    "# remove terms that appear too frequently\n",
    "# ignore terms that appear in more than 20% documents\n",
    "vec_lower = CountVectorizer(max_df = 0.2)\n",
    "vec_lower.fit(df_training_lemmatizer)\n",
    "counts_lower = vec_lower.transform(df_training_lemmatizer)\n",
    "counts_lower = counts_lower.toarray()\n",
    "counts_lower.shape"
   ]
  },
  {
   "cell_type": "markdown",
   "metadata": {},
   "source": [
    "##### From the results above, we can see that when I didn't set the upper and lower limits on frequency, I got 4229 unique tokens in my vocabulary. After I remove the terms that appear in less than 1% of the documents, which means vocabularies that show too infrequently, I got 874 unique words. And after I remove the words that show in more than 20% documents(too frequently), I got 4217 unique words. Since 4217 and 4229 are pretty close, so I think it shows that most of the words in my vocabulary don't appear too frequently, and most of the words are unique words."
   ]
  },
  {
   "cell_type": "markdown",
   "metadata": {},
   "source": [
    "## #6\n",
    "### Process the test data"
   ]
  },
  {
   "cell_type": "code",
   "execution_count": 19,
   "metadata": {},
   "outputs": [],
   "source": [
    "# set same dimensions for training and test data\n",
    "counts_test = vectorizer.transform(df_test['text'])\n",
    "counts_test = counts_test.toarray()\n",
    "counts_test = pd.DataFrame(counts_test, columns = vectorizer.get_feature_names())"
   ]
  },
  {
   "cell_type": "code",
   "execution_count": 20,
   "metadata": {
    "scrolled": true
   },
   "outputs": [
    {
     "name": "stdout",
     "output_type": "stream",
     "text": [
      "(528, 4228)\n",
      "(111, 4228)\n"
     ]
    }
   ],
   "source": [
    "# check dimensions of training data\n",
    "print(counts_training.shape)\n",
    "# check dimensions of test data\n",
    "print(counts_test.shape)"
   ]
  },
  {
   "cell_type": "markdown",
   "metadata": {},
   "source": [
    "# Part two: Supervised Learning"
   ]
  },
  {
   "cell_type": "markdown",
   "metadata": {},
   "source": [
    "## #7\n",
    "### Add new features"
   ]
  },
  {
   "cell_type": "markdown",
   "metadata": {},
   "source": [
    "\n",
    "#### Add TF-IDF"
   ]
  },
  {
   "cell_type": "code",
   "execution_count": 21,
   "metadata": {},
   "outputs": [],
   "source": [
    "# Add feature TF-IDF\n",
    "from sklearn.feature_extraction.text import TfidfVectorizer\n",
    "tfidfvec = TfidfVectorizer()\n",
    "tfidfvec.fit(df_training_lemmatizer)\n",
    "tfidf_training = tfidfvec.transform(df_training_lemmatizer)\n",
    "\n",
    "# convert to a dataframe\n",
    "tfidf_training = pd.DataFrame(tfidf_training.toarray(), columns = tfidfvec.get_feature_names())\n"
   ]
  },
  {
   "cell_type": "code",
   "execution_count": 22,
   "metadata": {},
   "outputs": [
    {
     "data": {
      "text/plain": [
       "(528, 4228)"
      ]
     },
     "execution_count": 22,
     "metadata": {},
     "output_type": "execute_result"
    }
   ],
   "source": [
    "# Check the shape of tfidf_training\n",
    "tfidf_training.shape"
   ]
  },
  {
   "cell_type": "code",
   "execution_count": 23,
   "metadata": {
    "scrolled": true
   },
   "outputs": [],
   "source": [
    "# test data\n",
    "tfidf_test = tfidfvec.transform(df_test['text'])\n",
    "# convert to a dataframe\n",
    "tfidf_test = pd.DataFrame(tfidf_test.toarray(), columns = tfidfvec.get_feature_names())\n"
   ]
  },
  {
   "cell_type": "code",
   "execution_count": 24,
   "metadata": {
    "scrolled": true
   },
   "outputs": [
    {
     "data": {
      "text/plain": [
       "(111, 4228)"
      ]
     },
     "execution_count": 24,
     "metadata": {},
     "output_type": "execute_result"
    }
   ],
   "source": [
    "# Check the shape of tfidf_test\n",
    "tfidf_test.shape"
   ]
  },
  {
   "cell_type": "markdown",
   "metadata": {},
   "source": [
    "#### Add Sentiment Score"
   ]
  },
  {
   "cell_type": "code",
   "execution_count": 25,
   "metadata": {},
   "outputs": [],
   "source": [
    "from textblob import TextBlob\n",
    "def sentimentscore(x):\n",
    "    return TextBlob(x).sentiment   \n",
    "# sentiment score on training data \n",
    "df_senti_training = pd.DataFrame([sentimentscore(x) for x in df_training_lemmatizer])\n",
    "# sentiment score on test data\n",
    "df_senti_test = pd.DataFrame([sentimentscore(x) for x in df_test['text']])\n"
   ]
  },
  {
   "cell_type": "code",
   "execution_count": 26,
   "metadata": {},
   "outputs": [
    {
     "name": "stdout",
     "output_type": "stream",
     "text": [
      "(528, 2)\n",
      "(111, 2)\n"
     ]
    }
   ],
   "source": [
    "# check dimension of setiment training\n",
    "print(df_senti_training.shape)\n",
    "# check dimension of setiment test\n",
    "print(df_senti_test.shape)"
   ]
  },
  {
   "cell_type": "markdown",
   "metadata": {},
   "source": [
    "#### Add bigram features"
   ]
  },
  {
   "cell_type": "code",
   "execution_count": 27,
   "metadata": {},
   "outputs": [
    {
     "data": {
      "text/plain": [
       "(528, 21315)"
      ]
     },
     "execution_count": 27,
     "metadata": {},
     "output_type": "execute_result"
    }
   ],
   "source": [
    "# Getting bigrams on training\n",
    "vectorizer_bi_training = CountVectorizer(ngram_range =(2, 2)) \n",
    "X1 = vectorizer_bi_training.fit_transform(df_training_lemmatizer)  \n",
    "features = (vectorizer_bi_training.get_feature_names()) \n",
    "bi_training = pd.DataFrame(X1.toarray(), columns = features)\n",
    "# check dimension of training\n",
    "bi_training.shape"
   ]
  },
  {
   "cell_type": "code",
   "execution_count": 28,
   "metadata": {},
   "outputs": [
    {
     "data": {
      "text/plain": [
       "(111, 21315)"
      ]
     },
     "execution_count": 28,
     "metadata": {},
     "output_type": "execute_result"
    }
   ],
   "source": [
    "# Getting bigrams on test\n",
    "bi_test = vectorizer_bi_training.transform(df_test['text'])\n",
    "bi_test = bi_test.toarray()\n",
    "bi_test = pd.DataFrame(bi_test, columns = vectorizer_bi_training.get_feature_names())\n",
    "# check dimension of test\n",
    "bi_test.shape"
   ]
  },
  {
   "cell_type": "markdown",
   "metadata": {},
   "source": [
    "#### Add topic model weights"
   ]
  },
  {
   "cell_type": "code",
   "execution_count": 29,
   "metadata": {},
   "outputs": [],
   "source": [
    "# data prepare for topic model\n",
    "training_lemmatizer = pd.DataFrame(df_training_lemmatizer, columns = ['text'])\n",
    "token_lemm = pd.DataFrame(training_lemmatizer.apply(lambda x: [item.split(\" \") for item in x]))\n",
    "token_list = []\n",
    "t = token_lemm.apply(lambda x: [token_list.append(word)for word in x])\n",
    "token_list = token_lemm['text'].to_list()"
   ]
  },
  {
   "cell_type": "code",
   "execution_count": 30,
   "metadata": {},
   "outputs": [],
   "source": [
    "import gensim\n",
    "from gensim import corpora\n",
    "\n",
    "# Create Dictionary\n",
    "dictionary = corpora.Dictionary(token_list)\n",
    "# Create Corpus\n",
    "texts = token_lemm\n",
    "# Term Document Frequency\n",
    "corpus = [dictionary.doc2bow(text) for text in token_list]"
   ]
  },
  {
   "cell_type": "code",
   "execution_count": 31,
   "metadata": {},
   "outputs": [
    {
     "data": {
      "text/plain": [
       "528"
      ]
     },
     "execution_count": 31,
     "metadata": {},
     "output_type": "execute_result"
    }
   ],
   "source": [
    "len(corpus)"
   ]
  },
  {
   "cell_type": "code",
   "execution_count": 32,
   "metadata": {
    "scrolled": false
   },
   "outputs": [
    {
     "name": "stdout",
     "output_type": "stream",
     "text": [
      "(0, '0.015*\"school\" + 0.012*\"country\" + 0.012*\"teacher\" + 0.009*\"president\" + 0.007*\"would\"')\n",
      "(1, '0.012*\"country\" + 0.011*\"president\" + 0.007*\"woman\" + 0.007*\"american\" + 0.007*\"year\"')\n",
      "(2, '0.010*\"country\" + 0.010*\"right\" + 0.009*\"president\" + 0.007*\"job\" + 0.007*\"america\"')\n",
      "(3, '0.008*\"president\" + 0.008*\"american\" + 0.008*\"state\" + 0.007*\"woman\" + 0.007*\"right\"')\n",
      "(4, '0.013*\"american\" + 0.011*\"president\" + 0.009*\"right\" + 0.008*\"way\" + 0.007*\"country\"')\n",
      "(5, '0.012*\"american\" + 0.008*\"president\" + 0.008*\"right\" + 0.007*\"get\" + 0.007*\"like\"')\n",
      "(6, '0.016*\"get\" + 0.009*\"done\" + 0.008*\"company\" + 0.007*\"right\" + 0.007*\"insurance\"')\n",
      "(7, '0.010*\"country\" + 0.008*\"would\" + 0.007*\"get\" + 0.007*\"president\" + 0.007*\"time\"')\n"
     ]
    }
   ],
   "source": [
    "# get a overview of topic\n",
    "np.random.seed(112)\n",
    "ldamodel = gensim.models.ldamodel.LdaModel(corpus, num_topics = 8, id2word=dictionary, passes=15)\n",
    "ldamodel.save('model3.gensim')\n",
    "topics = ldamodel.print_topics(num_words=5)\n",
    "for topic in topics:\n",
    "    print(topic)"
   ]
  },
  {
   "cell_type": "markdown",
   "metadata": {},
   "source": [
    "#### Apply LDA on training data and test data"
   ]
  },
  {
   "cell_type": "code",
   "execution_count": 33,
   "metadata": {},
   "outputs": [
    {
     "data": {
      "text/plain": [
       "(528, 8)"
      ]
     },
     "execution_count": 33,
     "metadata": {},
     "output_type": "execute_result"
    }
   ],
   "source": [
    "from sklearn.decomposition import LatentDirichletAllocation as LDA\n",
    "# LDA on traning data\n",
    "lda = LDA(n_components = 8)\n",
    "lda.fit(counts_training)\n",
    "ldaOut_training = lda.transform(counts_training)\n",
    "# convert to a data frame\n",
    "df_lda_training = pd.DataFrame(ldaOut_training)\n",
    "# check dimension of ldaOut training\n",
    "df_lda_training.shape\n"
   ]
  },
  {
   "cell_type": "code",
   "execution_count": 34,
   "metadata": {
    "scrolled": true
   },
   "outputs": [],
   "source": [
    "# LDA on test data\n",
    "ldaOut_test = lda.transform(counts_test)\n",
    "# convert to a data frame\n",
    "df_lda_test = pd.DataFrame(ldaOut_test)"
   ]
  },
  {
   "cell_type": "code",
   "execution_count": 35,
   "metadata": {
    "scrolled": true
   },
   "outputs": [
    {
     "data": {
      "text/plain": [
       "(111, 8)"
      ]
     },
     "execution_count": 35,
     "metadata": {},
     "output_type": "execute_result"
    }
   ],
   "source": [
    "# check dimension of ldaOut test\n",
    "df_lda_test.shape"
   ]
  },
  {
   "cell_type": "code",
   "execution_count": 36,
   "metadata": {},
   "outputs": [],
   "source": [
    "def convert_lda_features(lda_features, n_topics=8):\n",
    "    converted_features = []\n",
    "    for row in lda_features:\n",
    "        row_converted_features = [0.0] * n_topics\n",
    "        for lda_tuple in row:\n",
    "            idx, lda_value = lda_tuple\n",
    "            row_converted_features[idx] = lda_value\n",
    "        converted_features.append(row_converted_features)\n",
    "    return converted_features"
   ]
  },
  {
   "cell_type": "markdown",
   "metadata": {},
   "source": [
    "#### combine all features to one training dataset"
   ]
  },
  {
   "cell_type": "code",
   "execution_count": 37,
   "metadata": {
    "scrolled": true
   },
   "outputs": [
    {
     "data": {
      "text/plain": [
       "(528, 29783)"
      ]
     },
     "execution_count": 37,
     "metadata": {},
     "output_type": "execute_result"
    }
   ],
   "source": [
    "# df_token_nsw, counts_training, tfidf_training, df_senti_training, bi_training, df_lda_training\n",
    "full_training = pd.concat([df_token_nsw, counts_training, tfidf_training,\n",
    "                           df_senti_training,bi_training,df_lda_training], \n",
    "                          axis=1, sort=False)\n",
    "# add labels to full_training\n",
    "full_training['labels'] = train_label_last_name\n",
    "# check dimension of full_training\n",
    "full_training.shape"
   ]
  },
  {
   "cell_type": "code",
   "execution_count": 38,
   "metadata": {},
   "outputs": [],
   "source": [
    "#df_token_nswtest, counts_test, tfidf_test, df_senti_test, bi_test, df_lda_test\n",
    "df_token_test = df_test.apply(lambda x : x.astype(str).str.split())\n",
    "df_token_nswtest = pd.DataFrame(df_token_test['text'].apply(lambda x: [item for item in x if ((item not in stop_words) & (item not in specific_stopwords))]))\n"
   ]
  },
  {
   "cell_type": "code",
   "execution_count": 39,
   "metadata": {},
   "outputs": [
    {
     "data": {
      "text/plain": [
       "(111, 29782)"
      ]
     },
     "execution_count": 39,
     "metadata": {},
     "output_type": "execute_result"
    }
   ],
   "source": [
    "full_test = pd.concat([df_token_nswtest, counts_test, tfidf_test,\n",
    "                           df_senti_test,bi_test,df_lda_test], \n",
    "                          axis=1, sort=False)\n",
    "# check dimension of full_test\n",
    "full_test.shape\n"
   ]
  },
  {
   "cell_type": "markdown",
   "metadata": {},
   "source": [
    "##### We can see that the dimension of full_training and full_test are right, the numbers of rows are the same with the original dataset, and the numbers of columns are the sum of the columns of all the features I added in the previous step.\n",
    "##### In this problem, I add TF-IDF, sentiment score, bigram, topic weights in my data. Because I think my model ultimately will be used to predict who said what, I need to know how relevant a word is to a document in a collection of documents, what the overall attitude of this person's to this event and what topic does he/she like to talk about. All these information are very helpful to know who said what, and these information can be captured by TF-IDF, sentiment score, and topic weights. The reason why I include bigram is because I notice that when I do the token, some words are splited to an unwanted way, for example, 911 are splited to 9 and 11, so I think bigram can fix this problem, and that's why I include bigram too.\n"
   ]
  },
  {
   "cell_type": "markdown",
   "metadata": {},
   "source": [
    "## #8\n",
    "### Logisitic regression model"
   ]
  },
  {
   "cell_type": "code",
   "execution_count": 40,
   "metadata": {},
   "outputs": [],
   "source": [
    "from sklearn.linear_model import LogisticRegression\n",
    "from sklearn.preprocessing import StandardScaler\n",
    "# split training data into training and validation\n",
    "from sklearn.model_selection import train_test_split\n",
    "X = full_training.drop(['labels', 'text'], axis=1)\n",
    "X_train, X_valid, y_train, y_valid= train_test_split(\n",
    "    X, train_label_last_name, test_size=0.3, random_state=0)\n",
    "\n"
   ]
  },
  {
   "cell_type": "code",
   "execution_count": 41,
   "metadata": {
    "scrolled": false
   },
   "outputs": [
    {
     "name": "stdout",
     "output_type": "stream",
     "text": [
      "C: 0.05\n",
      "Training accuracy: 0.21138211382113822\n",
      "Validation accuracy: 0.20125786163522014\n",
      "C: 1\n",
      "Training accuracy: 0.959349593495935\n",
      "Validation accuracy: 0.41509433962264153\n",
      "C: 10\n",
      "Training accuracy: 0.983739837398374\n",
      "Validation accuracy: 0.4025157232704403\n",
      "C: 50\n",
      "Training accuracy: 0.991869918699187\n",
      "Validation accuracy: 0.4591194968553459\n",
      "C: 640\n",
      "Training accuracy: 1.0\n",
      "Validation accuracy: 0.4591194968553459\n"
     ]
    }
   ],
   "source": [
    "# Create a scaler object\n",
    "sc = StandardScaler()\n",
    "# Fit the scaler to the training data and transform\n",
    "X_train_std = sc.fit_transform(X_train)\n",
    "# Apply the scaler to the test data\n",
    "X_valid_std = sc.transform(X_valid)\n",
    "C = [0.05, 1, 10, 50, 640]\n",
    "for c in C:\n",
    "    clf = LogisticRegression(penalty='l1', C=c, solver='liblinear')\n",
    "    clf.fit(X_train, y_train)\n",
    "    print('C:', c)\n",
    "    print('Training accuracy:', clf.score(X_train_std, y_train))\n",
    "    print('Validation accuracy:', clf.score(X_valid_std, y_valid))\n"
   ]
  },
  {
   "cell_type": "markdown",
   "metadata": {},
   "source": [
    "##### I set the coefficient as 0.05, 1.5, 10 , 50 and  640 separately to see how does the accurary show. When c = 0.05, the performance of the model is very bad on both training data and validation data. When c increases, the performan of model increases. However, it is noticable that all the models have a very high accurary on the training data,  but the accurary of the validation data is pretty low. When C = 640, the accurary of the valid data approaches 50%, but the accurary of the training data approaches 100%.I think it is because I have too many features in my data, and the features are way more than the observations I have in the data. Plus, I used a lot of transformers in the previous steps. All these can cause overfitting, and overfitting makes my model does a good job on training data but has a very low performance on the validation data.\n"
   ]
  },
  {
   "cell_type": "markdown",
   "metadata": {},
   "source": [
    "### Plot the results"
   ]
  },
  {
   "cell_type": "code",
   "execution_count": 42,
   "metadata": {},
   "outputs": [],
   "source": [
    "def unique(list): \n",
    "  \n",
    "    # intilize a null list \n",
    "    unique_list = [] \n",
    "      \n",
    "    # traverse for all elements \n",
    "    for x in list: \n",
    "        # check if exists in unique_list or not \n",
    "        if x not in unique_list: \n",
    "            unique_list.append(x) \n",
    "    # print list \n",
    "    for x in unique_list: \n",
    "        return unique_list"
   ]
  },
  {
   "cell_type": "code",
   "execution_count": 43,
   "metadata": {
    "scrolled": true
   },
   "outputs": [],
   "source": [
    "# get classification labels\n",
    "unique_label = unique(train_label_last_name)"
   ]
  },
  {
   "cell_type": "code",
   "execution_count": 44,
   "metadata": {},
   "outputs": [
    {
     "name": "stdout",
     "output_type": "stream",
     "text": [
      "[[44.44 33.33  0.    0.    0.    0.    0.   11.11  0.    0.    0.   11.11]\n",
      " [ 3.85 65.38 11.54  7.69  0.    3.85  0.    3.85  0.    0.    0.    3.85]\n",
      " [ 0.   13.33 53.33 13.33  6.67  6.67  0.    6.67  0.    0.    0.    0.  ]\n",
      " [11.11 11.11 11.11 44.44  5.56 11.11  0.    0.    0.    5.56  0.    0.  ]\n",
      " [ 7.14  0.    0.   21.43 64.29  0.    0.    0.    7.14  0.    0.    0.  ]\n",
      " [ 5.88 17.65  0.    5.88  5.88 52.94  0.    5.88  0.    5.88  0.    0.  ]\n",
      " [ 0.   50.    0.   50.    0.    0.    0.    0.    0.    0.    0.    0.  ]\n",
      " [ 0.   14.29  0.    4.76  0.    9.52  0.   61.9   0.    4.76  0.    4.76]\n",
      " [ 0.    0.   50.    0.    0.    0.    0.    0.   50.    0.    0.    0.  ]\n",
      " [ 0.    6.67 13.33  6.67 13.33 13.33  0.   13.33  0.   26.67  6.67  0.  ]\n",
      " [ 0.    0.   33.33 16.67 16.67  0.    0.    0.    0.   16.67 16.67  0.  ]\n",
      " [ 0.    8.33 33.33  0.    0.   16.67  0.    8.33  0.    0.    0.   33.33]]\n"
     ]
    },
    {
     "data": {
      "text/plain": [
       "(array([ 0.5,  1.5,  2.5,  3.5,  4.5,  5.5,  6.5,  7.5,  8.5,  9.5, 10.5,\n",
       "        11.5]),\n",
       " <a list of 12 Text yticklabel objects>)"
      ]
     },
     "execution_count": 44,
     "metadata": {},
     "output_type": "execute_result"
    },
    {
     "data": {
      "image/png": "[encoded data removed]",
      "text/plain": [
       "<Figure size 576x576 with 2 Axes>"
      ]
     },
     "metadata": {
      "needs_background": "light"
     },
     "output_type": "display_data"
    }
   ],
   "source": [
    "import seaborn as sns\n",
    "import matplotlib.pyplot as plt\n",
    "from sklearn.metrics import confusion_matrix\n",
    "clf_logistic = LogisticRegression(penalty='l1', C=50, solver='liblinear')\n",
    "clf_logistic.fit(X_train, y_train)\n",
    "y_pred_losgistic = clf_logistic.predict(X_valid)\n",
    "cm = np.round(confusion_matrix(y_valid, y_pred_losgistic,unique_label, normalize='true'), 4) * 100\n",
    "print(cm)\n",
    "fig, ax = plt.subplots(figsize=(8, 8))\n",
    "ax= plt.subplot()\n",
    "sns.heatmap(cm, annot=True, ax = ax, ); #annot=True to annotate cells\n",
    "\n",
    "# labels, title and ticks\n",
    "ax.set_xlabel('Predicted labels')\n",
    "ax.set_ylabel('True labels') \n",
    "ax.set_title('Confusion Matrix') \n",
    "ax.xaxis.set_ticklabels(unique_label)\n",
    "ax.yaxis.set_ticklabels(unique_label)\n",
    "plt.xticks(rotation=90)\n",
    "plt.yticks(rotation=45)"
   ]
  },
  {
   "cell_type": "markdown",
   "metadata": {},
   "source": [
    "##### From the plot, we can see that the model performs particularly well on the \"Warren\" class, the true positive is 73%, but the model performs particularly poorly on \"Gabbard\" class. From the head plot, if we look at the the row of Gabbard true labels, we can find that Gabbard are confused to \"Warren\" and \"Booker\". I think it may because there are some similar words in \"Gabbard\", \"Warren\" and \"Booker\", or it may because when I split the training and valid dataset, all the data in \"Gabbard\" class were splitted into valid data, so the machine didn't learn from Gabbard class."
   ]
  },
  {
   "cell_type": "code",
   "execution_count": 45,
   "metadata": {},
   "outputs": [],
   "source": [
    "# Apply C = 50 on test data\n",
    "# prepare data\n",
    "X_test = full_test.drop(['text'],axis=1) \n",
    "X_train_all = full_training.drop(['labels', 'text'],axis=1)\n",
    "y_train_all = full_training[['labels']]\n"
   ]
  },
  {
   "cell_type": "code",
   "execution_count": 46,
   "metadata": {
    "scrolled": true
   },
   "outputs": [
    {
     "name": "stderr",
     "output_type": "stream",
     "text": [
      "/opt/anaconda3/lib/python3.7/site-packages/sklearn/utils/validation.py:760: DataConversionWarning: A column-vector y was passed when a 1d array was expected. Please change the shape of y to (n_samples, ), for example using ravel().\n",
      "  y = column_or_1d(y, warn=True)\n"
     ]
    },
    {
     "name": "stdout",
     "output_type": "stream",
     "text": [
      "C: 50\n",
      "Training accuracy: 0.8522727272727273\n"
     ]
    }
   ],
   "source": [
    "X_train_std_all = sc.fit_transform(X_train_all)\n",
    "X_test_pred_std = sc.transform(X_test)\n",
    "# Apply the scaler to the test data\n",
    "X_test_std = sc.transform(X_test)\n",
    "clf_l = LogisticRegression(penalty='l1', C=50, solver='liblinear')\n",
    "clf_l.fit(X_train_all, y_train_all)\n",
    "y_test_pred_l = clf_l.predict(X_test)\n",
    "print('C:', 50)\n",
    "print('Training accuracy:', clf.score(X_train_std_all, y_train_all))\n"
   ]
  },
  {
   "cell_type": "markdown",
   "metadata": {},
   "source": [
    "##### After compared the accuracy of different C values on training and validation data, I chose C = 50 as a final parameter in my model. And the training accurary is 85.23%, test accurary is 43.24%."
   ]
  },
  {
   "cell_type": "markdown",
   "metadata": {},
   "source": [
    "## #9\n",
    "### Build a tree model"
   ]
  },
  {
   "cell_type": "code",
   "execution_count": 47,
   "metadata": {},
   "outputs": [],
   "source": [
    "import pandas as pd\n",
    "from sklearn.tree import DecisionTreeClassifier\n",
    "from sklearn.model_selection import train_test_split\n",
    "from sklearn import metrics"
   ]
  },
  {
   "cell_type": "code",
   "execution_count": 48,
   "metadata": {},
   "outputs": [
    {
     "name": "stdout",
     "output_type": "stream",
     "text": [
      "Depth: 6\n",
      "Training accuracy: 0.3224932249322493\n",
      "Validation accuracy: 0.13836477987421383\n",
      "Depth: 15\n",
      "Training accuracy: 0.5772357723577236\n",
      "Validation accuracy: 0.1949685534591195\n",
      "Depth: 20\n",
      "Training accuracy: 0.6964769647696477\n",
      "Validation accuracy: 0.23270440251572327\n",
      "Depth: 50\n",
      "Training accuracy: 1.0\n",
      "Validation accuracy: 0.25157232704402516\n",
      "Depth: 100\n",
      "Training accuracy: 1.0\n",
      "Validation accuracy: 0.24528301886792453\n"
     ]
    }
   ],
   "source": [
    "# Apply model on the training data and do validation on the valid data\n",
    "D = [6,15,20,50,100]\n",
    "for d in D:\n",
    "    clf_tree = DecisionTreeClassifier(criterion='gini', splitter='best', max_depth=d)\n",
    "    clf_tree = clf_tree.fit(X_train,y_train)\n",
    "    print('Depth:', d)\n",
    "    print('Training accuracy:', clf_tree.score(X_train, y_train))\n",
    "    print('Validation accuracy:', clf_tree.score(X_valid, y_valid))"
   ]
  },
  {
   "cell_type": "markdown",
   "metadata": {},
   "source": [
    "#### Plot the results"
   ]
  },
  {
   "cell_type": "code",
   "execution_count": 49,
   "metadata": {
    "scrolled": true
   },
   "outputs": [
    {
     "data": {
      "text/plain": [
       "(array([ 0.5,  1.5,  2.5,  3.5,  4.5,  5.5,  6.5,  7.5,  8.5,  9.5, 10.5,\n",
       "        11.5]),\n",
       " <a list of 12 Text yticklabel objects>)"
      ]
     },
     "execution_count": 49,
     "metadata": {},
     "output_type": "execute_result"
    },
    {
     "data": {
      "image/png": "[encoded data removed]",
      "text/plain": [
       "<Figure size 576x576 with 2 Axes>"
      ]
     },
     "metadata": {
      "needs_background": "light"
     },
     "output_type": "display_data"
    }
   ],
   "source": [
    "np.random.seed(222)\n",
    "clf_tree = DecisionTreeClassifier(criterion='gini', splitter='best', max_depth=20)\n",
    "clf_tree = clf_tree.fit(X_train,y_train)\n",
    "y_valid_tree = clf_tree.predict(X_valid)\n",
    "cm = np.round(confusion_matrix(y_valid, y_valid_tree,unique_label, normalize='true'), 4) * 100\n",
    "fig, ax = plt.subplots(figsize=(8, 8))\n",
    "ax= plt.subplot()\n",
    "sns.heatmap(cm, annot=True, ax = ax, ); #annot=True to annotate cells\n",
    "# labels, title and ticks\n",
    "ax.set_xlabel('Predicted labels')\n",
    "ax.set_ylabel('True labels') \n",
    "ax.set_title('Confusion Matrix') \n",
    "ax.xaxis.set_ticklabels(unique_label)\n",
    "ax.yaxis.set_ticklabels(unique_label)\n",
    "plt.xticks(rotation=90)\n",
    "plt.yticks(rotation=45)"
   ]
  },
  {
   "cell_type": "markdown",
   "metadata": {},
   "source": [
    "###### From the accurary score, we can see that the tree model has lower permance overall than the logistic model, and when max_depth reaches 60, the model becomes overfitting on the training data with accurary 1, however, the accurary of the valid data is pretty low.\n",
    "##### From the heat plot , we can see that the model performs particularly well on the \"Buttigieg\" class, the true positive is 53%, but the model performs particularly poorly on \"Gabbard\" class ,\"Yang\" class and \"Castro\" class. They are all misclassified.\n",
    "##### Since the model with max_depth 20 and the model with max_depth 20 has the same performance on the valid data, but when I set max_depth 50, the model is overfitting, I chose the second model which max_depth is 20 as my model."
   ]
  },
  {
   "cell_type": "code",
   "execution_count": 50,
   "metadata": {},
   "outputs": [
    {
     "name": "stdout",
     "output_type": "stream",
     "text": [
      "Depth: 20\n",
      "Training accuracy: 0.5965909090909091\n"
     ]
    }
   ],
   "source": [
    "# Apply max_depth = 20 on test data\n",
    "\n",
    "clf_t = DecisionTreeClassifier(criterion='gini', splitter='best', max_depth=20)\n",
    "clf_t = clf_t.fit(X_train_all,y_train_all)\n",
    "y_test_pred_t = clf_t.predict(X_test)\n",
    "print('Depth:', 20)\n",
    "print('Training accuracy:', clf_t.score(X_train_all, y_train_all))\n"
   ]
  },
  {
   "cell_type": "markdown",
   "metadata": {},
   "source": [
    "## #10\n",
    "### Build a random forest model"
   ]
  },
  {
   "cell_type": "code",
   "execution_count": 51,
   "metadata": {},
   "outputs": [
    {
     "name": "stdout",
     "output_type": "stream",
     "text": [
      "min_samples_leaf: 3\n",
      "Training accuracy: 0.8401084010840109\n",
      "Validation accuracy: 0.4025157232704403\n",
      "min_samples_leaf: 5\n",
      "Training accuracy: 0.6964769647696477\n",
      "Validation accuracy: 0.34591194968553457\n",
      "min_samples_leaf: 7\n",
      "Training accuracy: 0.5121951219512195\n",
      "Validation accuracy: 0.27044025157232704\n",
      "min_samples_leaf: 100\n",
      "Training accuracy: 0.14634146341463414\n",
      "Validation accuracy: 0.16352201257861634\n",
      "min_samples_leaf: 150\n",
      "Training accuracy: 0.14634146341463414\n",
      "Validation accuracy: 0.16352201257861634\n",
      "min_samples_leaf: 500\n",
      "Training accuracy: 0.14634146341463414\n",
      "Validation accuracy: 0.16352201257861634\n"
     ]
    }
   ],
   "source": [
    "np.random.seed(771)\n",
    "from sklearn.ensemble import RandomForestClassifier\n",
    "Leaf = [3, 5, 7, 100, 150, 500]\n",
    "for l in Leaf:\n",
    "    clf_random_forest = RandomForestClassifier(\n",
    "        n_estimators= 200, \n",
    "        min_samples_leaf = l,\n",
    "        \n",
    "    )\n",
    "    clf_random_forest.fit(X_train, y_train)\n",
    "    print('min_samples_leaf:', l)\n",
    "    print('Training accuracy:', clf_random_forest.score(X_train_std, y_train))\n",
    "    print('Validation accuracy:', clf_random_forest.score(X_valid_std, y_valid))\n"
   ]
  },
  {
   "cell_type": "markdown",
   "metadata": {},
   "source": [
    "### Plot the results"
   ]
  },
  {
   "cell_type": "code",
   "execution_count": 52,
   "metadata": {
    "scrolled": false
   },
   "outputs": [
    {
     "data": {
      "text/plain": [
       "(array([ 0.5,  1.5,  2.5,  3.5,  4.5,  5.5,  6.5,  7.5,  8.5,  9.5, 10.5,\n",
       "        11.5]),\n",
       " <a list of 12 Text yticklabel objects>)"
      ]
     },
     "execution_count": 52,
     "metadata": {},
     "output_type": "execute_result"
    },
    {
     "data": {
      "image/png": "[encoded data removed]",
      "text/plain": [
       "<Figure size 576x576 with 2 Axes>"
      ]
     },
     "metadata": {
      "needs_background": "light"
     },
     "output_type": "display_data"
    }
   ],
   "source": [
    "clf_random_forest_v = RandomForestClassifier(n_estimators= 150,  min_samples_leaf = 3)\n",
    "clf_random_forest_v.fit(X_train, y_train)\n",
    "y_valid_random_forest = clf_random_forest_v.predict(X_valid)\n",
    "cm = np.round(confusion_matrix(y_valid, y_valid_random_forest,unique_label, normalize='true'), 4) * 100\n",
    "fig, ax = plt.subplots(figsize=(8, 8))\n",
    "ax= plt.subplot()\n",
    "sns.heatmap(cm, annot=True, ax = ax, ); #annot=True to annotate cells\n",
    "\n",
    "# labels, title and ticks\n",
    "ax.set_xlabel('Predicted labels')\n",
    "ax.set_ylabel('True labels') \n",
    "ax.set_title('Confusion Matrix') \n",
    "ax.xaxis.set_ticklabels(unique_label)\n",
    "ax.yaxis.set_ticklabels(unique_label)\n",
    "plt.xticks(rotation=90)\n",
    "plt.yticks(rotation=45)"
   ]
  },
  {
   "cell_type": "markdown",
   "metadata": {},
   "source": [
    "##### I chose to use random forest model because random forest is made up of many decision trees, and the tree model I build in the last question didn't performance well on the test data, I want to use random forest to improve the performance. Random forest model doesn't just simply average the prediction of trees, it combines hundreds or thousands of decision trees, trains each one on a slightly different set of the observations, splitting nodes in each tree considering a limited number of the features, So it can fix the overfitting problem in decision tree. That's why I chose random forest in this question. From the accurary score, we can see that random forest performances much better than dicision trees. \n",
    "#####  I tune the hyperparameter min_samples_leaf on the valid data because min_samplea_leaf is the end node of a decision tree. A smaller leaf makes the model more prone to capturing noise in train data, so I think min_samples_leaf is a important parameters which can affect the performance of the model. I set a list of values of min_samples_leaf, and I built model with different min_samples_leaf values separately and check the accurary of the training and validation data. \n",
    "##### From the plot, we can see that the model performs particularly well on the \"Warren\" class, the true positive is 77%, but the model performs particularly poorly on \"Gabbard\" class ,\"Steyer\" class, \"Yang\" class and \"Castro\" class. They are all misclassified. It is pretty clear that although the accurary is improved in random forest model compared to the decision tree model, the misclassification cases are greater in random forest model."
   ]
  },
  {
   "cell_type": "code",
   "execution_count": 53,
   "metadata": {},
   "outputs": [
    {
     "name": "stderr",
     "output_type": "stream",
     "text": [
      "/opt/anaconda3/lib/python3.7/site-packages/ipykernel_launcher.py:4: DataConversionWarning: A column-vector y was passed when a 1d array was expected. Please change the shape of y to (n_samples,), for example using ravel().\n",
      "  after removing the cwd from sys.path.\n"
     ]
    },
    {
     "name": "stdout",
     "output_type": "stream",
     "text": [
      "min_samples_leaf: 3\n",
      "Training accuracy: 0.9450757575757576\n"
     ]
    }
   ],
   "source": [
    "# Apply max_depth = 20 on test data\n",
    "\n",
    "clf_rf = RandomForestClassifier(n_estimators= 150,  min_samples_leaf = 3)\n",
    "clf_rf = clf_rf.fit(X_train_all,y_train_all)\n",
    "y_test_pred_rf = clf_rf.predict(X_test)\n",
    "print('min_samples_leaf:', 3)\n",
    "print('Training accuracy:', clf_rf.score(X_train_all, y_train_all))\n"
   ]
  },
  {
   "cell_type": "markdown",
   "metadata": {},
   "source": [
    "## #11\n",
    "### Compare the performance of three models"
   ]
  },
  {
   "cell_type": "markdown",
   "metadata": {},
   "source": [
    "##### I evaluated three models by accuracy, whether there is overfitting problem and misclassification cases. Firstly, we can see that from the accuracy scores in the three models, random forest has the highest accuracy on the training data, which is 94.5%, and decision tree model has the lowest accuracy, which is 59.66%, logistic regression model has 85.23% accuracy on training data. But if we look at the misclassification cases, we can find the in the random forest model, there are 8 classes are total misclassified. In logistic regression model, there are only one class are totally misclassified.  If we look at the accuracy on the training and valid data together, it is obvious that the logistic has higher accuracy on the valid data when the accuracy of the training data are almost the same.\n",
    "##### Combine all these three factors, I think the Logistic regression model performances the best."
   ]
  },
  {
   "cell_type": "markdown",
   "metadata": {},
   "source": [
    "## #12\n",
    "### Generate test labels using logistic regression model"
   ]
  },
  {
   "cell_type": "code",
   "execution_count": 54,
   "metadata": {},
   "outputs": [],
   "source": [
    "y_test_labels = clf_l.predict(X_test)"
   ]
  },
  {
   "cell_type": "code",
   "execution_count": 55,
   "metadata": {},
   "outputs": [],
   "source": [
    "# add labels to the test dataset\n",
    "full_test['pred_label'] = y_test_labels\n",
    "# save the file\n",
    "full_test.to_csv('./test_with_pred_labels.csv')"
   ]
  },
  {
   "cell_type": "markdown",
   "metadata": {},
   "source": [
    "# Part Three\n",
    "## Semi-supervised learning"
   ]
  },
  {
   "cell_type": "markdown",
   "metadata": {},
   "source": [
    "## #13\n",
    "### Model choose"
   ]
  },
  {
   "cell_type": "markdown",
   "metadata": {},
   "source": [
    "##### In this question, I chose Logistic Regression model to implement semi-supervised learning. Because I want a model that can produce the probabilities for each class, but tree models, including decision tree and random forest I implemented in the last part can only return the predicted class instead of the probabilities of each class. In logistic regression model, the predicted values tell you how likely it is that an observation belongs to a class. So I will use logistic regression model in this part."
   ]
  },
  {
   "cell_type": "markdown",
   "metadata": {},
   "source": [
    "## #14\n",
    "### Interactively adding test data to training data\n",
    "\n"
   ]
  },
  {
   "cell_type": "code",
   "execution_count": 56,
   "metadata": {
    "scrolled": true
   },
   "outputs": [],
   "source": [
    "X_test_features = full_test.drop(['text','pred_label'],axis = 1).copy(deep=True)"
   ]
  },
  {
   "cell_type": "code",
   "execution_count": 57,
   "metadata": {},
   "outputs": [],
   "source": [
    "# generate the probabilities of each label \n",
    "# pick the max value in each observation\n",
    "full_test['pred_prob'] = np.max(clf_l.predict_proba(X_test_features), axis=1)\n",
    "# Take top 10% instances\n",
    "top10_r1 = full_test\\\n",
    "            .sort_values(by='pred_prob', ascending=False)\\\n",
    "            .rename(columns={'pred_label': 'labels'})\\\n",
    "            .head(11)\n",
    "df_r1 = top10_r1.drop(['pred_prob'],axis = 1)"
   ]
  },
  {
   "cell_type": "code",
   "execution_count": 58,
   "metadata": {},
   "outputs": [],
   "source": [
    "# Add top10_r1 to the training dataset\n",
    "train_r1 = pd.DataFrame(\n",
    "    np.concatenate([df_r1, full_training], axis=0), \n",
    "    columns=df_r1.columns\n",
    ")"
   ]
  },
  {
   "cell_type": "code",
   "execution_count": 59,
   "metadata": {},
   "outputs": [
    {
     "name": "stdout",
     "output_type": "stream",
     "text": [
      "(539, 29783)\n",
      "(11, 29783)\n",
      "(528, 29783)\n"
     ]
    }
   ],
   "source": [
    "#check the shape of train_r1,df_r1 and full_training \n",
    "print(train_r1.shape)\n",
    "print(df_r1.shape)\n",
    "print(full_training.shape)"
   ]
  },
  {
   "cell_type": "markdown",
   "metadata": {},
   "source": [
    "### Retrain the model"
   ]
  },
  {
   "cell_type": "code",
   "execution_count": 60,
   "metadata": {},
   "outputs": [],
   "source": [
    "# split training data into training and validation\n",
    "from sklearn.model_selection import train_test_split\n",
    "X_training_r1 = train_r1.drop(['text', 'labels'], axis=1)\n",
    "X_training_r1, X_valid_r1, y_training_r1, y_valid_r1= train_test_split(\n",
    "    X_training_r1, train_r1['labels'], test_size=0.3, random_state=0)"
   ]
  },
  {
   "cell_type": "code",
   "execution_count": 61,
   "metadata": {
    "scrolled": false
   },
   "outputs": [
    {
     "name": "stdout",
     "output_type": "stream",
     "text": [
      "C: 0.05\n",
      "Training accuracy: 0.20424403183023873\n",
      "Validation accuracy: 0.2345679012345679\n",
      "C: 1\n",
      "Training accuracy: 0.9602122015915119\n",
      "Validation accuracy: 0.46296296296296297\n",
      "C: 10\n",
      "Training accuracy: 0.9681697612732095\n",
      "Validation accuracy: 0.49382716049382713\n",
      "C: 50\n",
      "Training accuracy: 0.986737400530504\n",
      "Validation accuracy: 0.4691358024691358\n",
      "C: 640\n",
      "Training accuracy: 1.0\n",
      "Validation accuracy: 0.4567901234567901\n"
     ]
    }
   ],
   "source": [
    "# Create a scaler object\n",
    "sc = StandardScaler()\n",
    "# Fit the scaler to the training data and transform\n",
    "X_training_std_r1 = sc.fit_transform(X_training_r1)\n",
    "# Apply the scaler to the test data\n",
    "X_valid_std_r1 = sc.transform(X_valid_r1)\n",
    "C_r1 = [0.05, 1, 10, 50, 640]\n",
    "for c_r1 in C_r1:\n",
    "    clf_lr = LogisticRegression(penalty='l1', C=c_r1, solver= 'liblinear' ,max_iter =70, random_state= 13)\n",
    "    clf_lr.fit(X_training_r1, y_training_r1)\n",
    "    print('C:', c_r1)\n",
    "    print('Training accuracy:', clf_lr.score(X_training_std_r1, y_training_r1))\n",
    "    print('Validation accuracy:', clf_lr.score(X_valid_std_r1, y_valid_r1))"
   ]
  },
  {
   "cell_type": "markdown",
   "metadata": {},
   "source": [
    "##### From the results, we can see that when C = 10, the accuracy of validation data is reaches the highest, which is 49.38%, and there is no overfitting on the training data."
   ]
  },
  {
   "cell_type": "code",
   "execution_count": 62,
   "metadata": {},
   "outputs": [],
   "source": [
    "X_train_r1 = train_r1.drop(['text', 'labels'],axis = 1)"
   ]
  },
  {
   "cell_type": "code",
   "execution_count": 63,
   "metadata": {},
   "outputs": [],
   "source": [
    "y_train_r1 = train_r1['labels']"
   ]
  },
  {
   "cell_type": "code",
   "execution_count": 64,
   "metadata": {},
   "outputs": [
    {
     "name": "stdout",
     "output_type": "stream",
     "text": [
      "C: 10\n",
      "Training accuracy: 0.9810606060606061\n"
     ]
    }
   ],
   "source": [
    "X_train_std_r1 = sc.fit_transform(X_train_r1)\n",
    "\n",
    "clf_lr_r1 = LogisticRegression(penalty='l1', C=10, solver= 'liblinear' ,max_iter =70, random_state= 23)\n",
    "clf_lr_r1.fit(X_train_r1, y_train_r1)\n",
    "\n",
    "print('C:',10)\n",
    "print('Training accuracy:', clf_lr_r1.score(X_train_std_all, y_train_all))"
   ]
  },
  {
   "cell_type": "markdown",
   "metadata": {},
   "source": [
    "##### After i added the top 10% data to the original training data, the best and tuned on the valid data, we can see that when C = 10, the accuracy of validation data reaches the highest which is 49.38%, which is higher than the performance of the model in the part 2. What's more, the accuracy on the whole training data is improved after adding top10 to the traning data. From the results, we can see that the accuracy of the retrained model is 98.1%, higher than the model in part two 85.23%."
   ]
  },
  {
   "cell_type": "markdown",
   "metadata": {},
   "source": [
    "## #15\n",
    "### Repeat the process"
   ]
  },
  {
   "cell_type": "markdown",
   "metadata": {},
   "source": [
    "#### iteration 2"
   ]
  },
  {
   "cell_type": "code",
   "execution_count": 65,
   "metadata": {},
   "outputs": [],
   "source": [
    "X_test_features_r2 = X_test_features[~X_test_features.index.isin(df_r1.index)]\n",
    "np.max(clf_l.predict_proba(X_test_features_r2), axis=1)\n",
    "top10_r2 = full_test\\\n",
    "            .sort_values(by='pred_prob', ascending=False)\\\n",
    "            .rename(columns={'pred_label': 'labels'})\\\n",
    "            .head(11)\n",
    "df_r2 = top10_r2.drop(['pred_prob'],axis = 1)\n",
    "# add top 10%\n",
    "train_r2 = pd.DataFrame(\n",
    "    np.concatenate([df_r2, train_r1], axis=0), \n",
    "    columns=df_r2.columns)"
   ]
  },
  {
   "cell_type": "code",
   "execution_count": 66,
   "metadata": {
    "scrolled": true
   },
   "outputs": [
    {
     "data": {
      "text/plain": [
       "(550, 29783)"
      ]
     },
     "execution_count": 66,
     "metadata": {},
     "output_type": "execute_result"
    }
   ],
   "source": [
    "# check dimension\n",
    "train_r2.shape"
   ]
  },
  {
   "cell_type": "code",
   "execution_count": 67,
   "metadata": {},
   "outputs": [],
   "source": [
    "X_training_r2 = train_r2.drop(['text', 'labels'], axis=1)\n",
    "X_training_r2, X_valid_r2, y_training_r2, y_valid_r2= train_test_split(\n",
    "    X_training_r2, train_r2['labels'], test_size=0.3, random_state=0)"
   ]
  },
  {
   "cell_type": "code",
   "execution_count": 68,
   "metadata": {
    "scrolled": true
   },
   "outputs": [
    {
     "name": "stdout",
     "output_type": "stream",
     "text": [
      "C: 0.05\n",
      "Training accuracy: 0.18441558441558442\n",
      "Validation accuracy: 0.2\n",
      "C: 1\n",
      "Training accuracy: 0.974025974025974\n",
      "Validation accuracy: 0.44242424242424244\n",
      "C: 10\n",
      "Training accuracy: 0.987012987012987\n",
      "Validation accuracy: 0.4303030303030303\n",
      "C: 50\n",
      "Training accuracy: 0.9948051948051948\n",
      "Validation accuracy: 0.44242424242424244\n",
      "C: 640\n",
      "Training accuracy: 1.0\n",
      "Validation accuracy: 0.4666666666666667\n"
     ]
    }
   ],
   "source": [
    "# Create a scaler object\n",
    "sc = StandardScaler()\n",
    "# Fit the scaler to the training data and transform\n",
    "X_training_std_r2 = sc.fit_transform(X_training_r2)\n",
    "# Apply the scaler to the test data\n",
    "X_valid_std_r2 = sc.transform(X_valid_r2)\n",
    "C_r2 = [0.05, 1, 10, 50, 640]\n",
    "for c_r2 in C_r2:\n",
    "    clf_lr_2 = LogisticRegression(penalty='l1', C=c_r2, solver= 'liblinear' ,max_iter =70, random_state= 13)\n",
    "    clf_lr_2.fit(X_training_r2, y_training_r2)\n",
    "    print('C:', c_r2)\n",
    "    print('Training accuracy:', clf_lr_2.score(X_training_std_r2, y_training_r2))\n",
    "    print('Validation accuracy:', clf_lr_2.score(X_valid_std_r2, y_valid_r2))"
   ]
  },
  {
   "cell_type": "markdown",
   "metadata": {},
   "source": [
    "##### From the results, we can see that when C = 50 or C = 1, the accuracy of validation data is reaches the highest, which is 44.24%. But we C= 50, the accuracy of training data is higher.\n"
   ]
  },
  {
   "cell_type": "code",
   "execution_count": 69,
   "metadata": {},
   "outputs": [],
   "source": [
    "X_train_r2 = train_r2.drop(['text', 'labels'],axis = 1)\n",
    "y_train_r2 = train_r2['labels']"
   ]
  },
  {
   "cell_type": "code",
   "execution_count": 70,
   "metadata": {},
   "outputs": [
    {
     "name": "stdout",
     "output_type": "stream",
     "text": [
      "C: 50\n",
      "Training accuracy: 0.9829545454545454\n"
     ]
    }
   ],
   "source": [
    "X_train_std_r2 = sc.fit_transform(X_train_r2)\n",
    "clf_lr_r2 = LogisticRegression(penalty='l1', C=50, solver= 'liblinear' ,max_iter =70, random_state= 23)\n",
    "clf_lr_r2.fit(X_train_r2, y_train_r2)\n",
    "\n",
    "print('C:',50)\n",
    "print('Training accuracy:', clf_lr_r2.score(X_train_std_all, y_train_all))"
   ]
  },
  {
   "cell_type": "markdown",
   "metadata": {},
   "source": [
    "##### After i added the another top 10% data to the original training data, the best and tuned on the valid data, we can see that when C = 50, the accuracy of validation data reaches the highest which is 44.24%, which is higher than the performance of the model in the part 2. What's more, the accuracy on the whole training data is improved after adding top10 to the traning data. From the results, we can see that the accuracy of the retrained model is 98.1%, higher than the model in part two 85.23%, also slightly higher than the previous model 98.1%.\n"
   ]
  },
  {
   "cell_type": "markdown",
   "metadata": {},
   "source": [
    "#### Iteration 3"
   ]
  },
  {
   "cell_type": "code",
   "execution_count": 71,
   "metadata": {},
   "outputs": [],
   "source": [
    "X_test_features_r3 = X_test_features[~X_test_features.index.isin(df_r2.index)]\n",
    "np.max(clf_l.predict_proba(X_test_features_r3), axis=1)\n",
    "top10_r3 = full_test\\\n",
    "            .sort_values(by='pred_prob', ascending=False)\\\n",
    "            .rename(columns={'pred_label': 'labels'})\\\n",
    "            .head(11)\n",
    "df_r3 = top10_r3.drop(['pred_prob'],axis = 1)\n",
    "# add top 10%\n",
    "train_r3 = pd.DataFrame(\n",
    "    np.concatenate([df_r3, train_r2], axis=0), \n",
    "    columns=df_r3.columns)"
   ]
  },
  {
   "cell_type": "code",
   "execution_count": 72,
   "metadata": {},
   "outputs": [
    {
     "data": {
      "text/plain": [
       "(561, 29783)"
      ]
     },
     "execution_count": 72,
     "metadata": {},
     "output_type": "execute_result"
    }
   ],
   "source": [
    "# check dimension\n",
    "train_r3.shape"
   ]
  },
  {
   "cell_type": "code",
   "execution_count": 73,
   "metadata": {},
   "outputs": [],
   "source": [
    "X_training_r3 = train_r3.drop(['text', 'labels'], axis=1)\n",
    "X_training_r3, X_valid_r3, y_training_r3, y_valid_r3= train_test_split(\n",
    "    X_training_r3, train_r3['labels'], test_size=0.3, random_state=0)"
   ]
  },
  {
   "cell_type": "code",
   "execution_count": 74,
   "metadata": {},
   "outputs": [
    {
     "name": "stdout",
     "output_type": "stream",
     "text": [
      "C: 0.05\n",
      "Training accuracy: 0.19387755102040816\n",
      "Validation accuracy: 0.17751479289940827\n",
      "C: 1\n",
      "Training accuracy: 0.9744897959183674\n",
      "Validation accuracy: 0.41420118343195267\n",
      "C: 10\n",
      "Training accuracy: 0.9948979591836735\n",
      "Validation accuracy: 0.378698224852071\n",
      "C: 50\n",
      "Training accuracy: 0.9974489795918368\n",
      "Validation accuracy: 0.40828402366863903\n",
      "C: 640\n",
      "Training accuracy: 1.0\n",
      "Validation accuracy: 0.4378698224852071\n"
     ]
    }
   ],
   "source": [
    "# Create a scaler object\n",
    "sc = StandardScaler()\n",
    "# Fit the scaler to the training data and transform\n",
    "X_training_std_r3 = sc.fit_transform(X_training_r3)\n",
    "# Apply the scaler to the test data\n",
    "X_valid_std_r3 = sc.transform(X_valid_r3)\n",
    "C_r3 = [0.05, 1, 10, 50, 640]\n",
    "for c_r3 in C_r3:\n",
    "    clf_lr_3 = LogisticRegression(penalty='l1', C=c_r3, solver= 'liblinear' ,max_iter =70, random_state= 13)\n",
    "    clf_lr_3.fit(X_training_r3, y_training_r3)\n",
    "    print('C:', c_r3)\n",
    "    print('Training accuracy:', clf_lr_3.score(X_training_std_r3, y_training_r3))\n",
    "    print('Validation accuracy:', clf_lr_3.score(X_valid_std_r3, y_valid_r3))"
   ]
  },
  {
   "cell_type": "markdown",
   "metadata": {},
   "source": [
    "##### We can see that the performance of model on both training and  test deceases compared to the last model. But I still chose the highest accuracy C value, which is C = 1."
   ]
  },
  {
   "cell_type": "code",
   "execution_count": 75,
   "metadata": {},
   "outputs": [],
   "source": [
    "X_train_r3 = train_r3.drop(['text', 'labels'],axis = 1)\n",
    "y_train_r3 = train_r3['labels']"
   ]
  },
  {
   "cell_type": "code",
   "execution_count": 76,
   "metadata": {},
   "outputs": [
    {
     "name": "stdout",
     "output_type": "stream",
     "text": [
      "C: 1\n",
      "Training accuracy: 0.9621212121212122\n"
     ]
    }
   ],
   "source": [
    "X_train_std_r3 = sc.fit_transform(X_train_r3)\n",
    "clf_lr_r3 = LogisticRegression(penalty='l1', C=1, solver= 'liblinear' ,max_iter =70, random_state= 23)\n",
    "clf_lr_r3.fit(X_train_r3, y_train_r3)\n",
    "\n",
    "print('C:',1)\n",
    "print('Training accuracy:', clf_lr_r3.score(X_train_std_all, y_train_all))"
   ]
  },
  {
   "cell_type": "markdown",
   "metadata": {},
   "source": [
    "##### Clearly, After i added the another top 10% data to the original training data in this step, the best and tuned on the valid data, we can see that when C = 1, the accuracy of validation data reaches the highest which is 41.42%, which is lower than the performance of the model in the part 2. What's more, the accuracy on the whole training data decreases after adding top10 to the traning data. From the results, we can see that the accuracy of the retrained model is 96,21%, higher than the model in part two 85.23%, but lower than the previous two models. The overall performance of the model decreases."
   ]
  },
  {
   "cell_type": "markdown",
   "metadata": {},
   "source": [
    "#### Iteration 4"
   ]
  },
  {
   "cell_type": "code",
   "execution_count": 77,
   "metadata": {},
   "outputs": [],
   "source": [
    "X_test_features_r4 = X_test_features[~X_test_features.index.isin(df_r3.index)]\n",
    "np.max(clf_l.predict_proba(X_test_features_r4), axis=1)\n",
    "top10_r4 = full_test\\\n",
    "            .sort_values(by='pred_prob', ascending=False)\\\n",
    "            .rename(columns={'pred_label': 'labels'})\\\n",
    "            .head(11)\n",
    "df_r4 = top10_r4.drop(['pred_prob'],axis = 1)\n",
    "# add top 10%\n",
    "train_r4 = pd.DataFrame(\n",
    "    np.concatenate([df_r4, train_r3], axis=0), \n",
    "    columns=df_r4.columns)"
   ]
  },
  {
   "cell_type": "code",
   "execution_count": 78,
   "metadata": {},
   "outputs": [
    {
     "data": {
      "text/plain": [
       "(572, 29783)"
      ]
     },
     "execution_count": 78,
     "metadata": {},
     "output_type": "execute_result"
    }
   ],
   "source": [
    "# check dimension\n",
    "train_r4.shape"
   ]
  },
  {
   "cell_type": "code",
   "execution_count": 79,
   "metadata": {},
   "outputs": [],
   "source": [
    "X_training_r4 = train_r4.drop(['text', 'labels'], axis=1)\n",
    "X_training_r4, X_valid_r4, y_training_r4, y_valid_r4= train_test_split(\n",
    "    X_training_r4, train_r4['labels'], test_size=0.3, random_state=0)"
   ]
  },
  {
   "cell_type": "code",
   "execution_count": 80,
   "metadata": {},
   "outputs": [
    {
     "name": "stdout",
     "output_type": "stream",
     "text": [
      "C: 0.05\n",
      "Training accuracy: 0.2525\n",
      "Validation accuracy: 0.2616279069767442\n",
      "C: 1\n",
      "Training accuracy: 0.9775\n",
      "Validation accuracy: 0.47093023255813954\n",
      "C: 10\n",
      "Training accuracy: 0.985\n",
      "Validation accuracy: 0.43023255813953487\n",
      "C: 50\n",
      "Training accuracy: 0.99\n",
      "Validation accuracy: 0.46511627906976744\n",
      "C: 640\n",
      "Training accuracy: 1.0\n",
      "Validation accuracy: 0.5058139534883721\n"
     ]
    }
   ],
   "source": [
    "# Create a scaler object\n",
    "sc = StandardScaler()\n",
    "# Fit the scaler to the training data and transform\n",
    "X_training_std_r4 = sc.fit_transform(X_training_r4)\n",
    "# Apply the scaler to the test data\n",
    "X_valid_std_r4 = sc.transform(X_valid_r4)\n",
    "C_r4 = [0.05, 1, 10, 50, 640]\n",
    "for c_r4 in C_r4:\n",
    "    clf_lr_4 = LogisticRegression(penalty='l1', C=c_r4, solver= 'liblinear' ,max_iter =70, random_state= 13)\n",
    "    clf_lr_4.fit(X_training_r4, y_training_r4)\n",
    "    print('C:', c_r4)\n",
    "    print('Training accuracy:', clf_lr_4.score(X_training_std_r4, y_training_r4))\n",
    "    print('Validation accuracy:', clf_lr_4.score(X_valid_std_r4, y_valid_r4))"
   ]
  },
  {
   "cell_type": "code",
   "execution_count": 81,
   "metadata": {},
   "outputs": [],
   "source": [
    "X_train_r4 = train_r4.drop(['text', 'labels'],axis = 1)\n",
    "y_train_r4 = train_r4['labels']"
   ]
  },
  {
   "cell_type": "code",
   "execution_count": 82,
   "metadata": {},
   "outputs": [
    {
     "name": "stdout",
     "output_type": "stream",
     "text": [
      "C: 1\n",
      "Training accuracy: 0.9621212121212122\n"
     ]
    }
   ],
   "source": [
    "X_train_std_r4 = sc.fit_transform(X_train_r4)\n",
    "clf_lr_r4 = LogisticRegression(penalty='l1', C=1, solver= 'liblinear' ,max_iter =70, random_state= 23)\n",
    "clf_lr_r4.fit(X_train_r4, y_train_r4)\n",
    "\n",
    "print('C:',1)\n",
    "print('Training accuracy:', clf_lr_r4.score(X_train_std_all, y_train_all))\n"
   ]
  },
  {
   "cell_type": "markdown",
   "metadata": {},
   "source": [
    "##### The performance stays the same as the previous model"
   ]
  },
  {
   "cell_type": "markdown",
   "metadata": {},
   "source": [
    "#### Interation 5"
   ]
  },
  {
   "cell_type": "code",
   "execution_count": 83,
   "metadata": {},
   "outputs": [],
   "source": [
    "X_test_features_r5 = X_test_features[~X_test_features.index.isin(df_r4.index)]\n",
    "np.max(clf_l.predict_proba(X_test_features_r5), axis=1)\n",
    "top10_r5 = full_test\\\n",
    "            .sort_values(by='pred_prob', ascending=False)\\\n",
    "            .rename(columns={'pred_label': 'labels'})\\\n",
    "            .head(11)\n",
    "df_r5 = top10_r5.drop(['pred_prob'],axis = 1)\n",
    "# add top 10%\n",
    "train_r5 = pd.DataFrame(\n",
    "    np.concatenate([df_r5, train_r4], axis=0), \n",
    "    columns=df_r5.columns)"
   ]
  },
  {
   "cell_type": "code",
   "execution_count": 84,
   "metadata": {},
   "outputs": [
    {
     "data": {
      "text/plain": [
       "(583, 29783)"
      ]
     },
     "execution_count": 84,
     "metadata": {},
     "output_type": "execute_result"
    }
   ],
   "source": [
    "# check dimension\n",
    "train_r5.shape"
   ]
  },
  {
   "cell_type": "code",
   "execution_count": 85,
   "metadata": {},
   "outputs": [],
   "source": [
    "X_training_r5 = train_r5.drop(['text', 'labels'], axis=1)\n",
    "X_training_r5, X_valid_r5, y_training_r5, y_valid_r5= train_test_split(\n",
    "    X_training_r5, train_r5['labels'], test_size=0.3, random_state=0)"
   ]
  },
  {
   "cell_type": "code",
   "execution_count": 86,
   "metadata": {},
   "outputs": [
    {
     "name": "stdout",
     "output_type": "stream",
     "text": [
      "C: 0.05\n",
      "Training accuracy: 0.2426470588235294\n",
      "Validation accuracy: 0.24571428571428572\n",
      "C: 1\n",
      "Training accuracy: 0.9828431372549019\n",
      "Validation accuracy: 0.4742857142857143\n",
      "C: 10\n",
      "Training accuracy: 0.9901960784313726\n",
      "Validation accuracy: 0.45714285714285713\n",
      "C: 50\n",
      "Training accuracy: 0.9901960784313726\n",
      "Validation accuracy: 0.4857142857142857\n",
      "C: 640\n",
      "Training accuracy: 1.0\n",
      "Validation accuracy: 0.49142857142857144\n"
     ]
    }
   ],
   "source": [
    "# Create a scaler object\n",
    "sc = StandardScaler()\n",
    "# Fit the scaler to the training data and transform\n",
    "X_training_std_r5 = sc.fit_transform(X_training_r5)\n",
    "# Apply the scaler to the test data\n",
    "X_valid_std_r5 = sc.transform(X_valid_r5)\n",
    "C_r5 = [0.05, 1, 10, 50, 640]\n",
    "for c_r5 in C_r5:\n",
    "    clf_lr_5 = LogisticRegression(penalty='l1', C=c_r5, solver= 'liblinear' ,max_iter =70, random_state= 13)\n",
    "    clf_lr_5.fit(X_training_r5, y_training_r5)\n",
    "    print('C:', c_r5)\n",
    "    print('Training accuracy:', clf_lr_5.score(X_training_std_r5, y_training_r5))\n",
    "    print('Validation accuracy:', clf_lr_5.score(X_valid_std_r5, y_valid_r5))"
   ]
  },
  {
   "cell_type": "code",
   "execution_count": 87,
   "metadata": {},
   "outputs": [],
   "source": [
    "X_train_r5 = train_r5.drop(['text', 'labels'],axis = 1)\n",
    "y_train_r5 = train_r5['labels']"
   ]
  },
  {
   "cell_type": "code",
   "execution_count": 88,
   "metadata": {},
   "outputs": [
    {
     "name": "stdout",
     "output_type": "stream",
     "text": [
      "C: 50\n",
      "Training accuracy: 0.9848484848484849\n"
     ]
    }
   ],
   "source": [
    "X_train_std_r5 = sc.fit_transform(X_train_r5)\n",
    "clf_lr_r5 = LogisticRegression(penalty='l1', C=50, solver= 'liblinear' ,max_iter =70, random_state= 23)\n",
    "clf_lr_r5.fit(X_train_r5, y_train_r5)\n",
    "\n",
    "print('C:',50)\n",
    "print('Training accuracy:', clf_lr_r5.score(X_train_std_all, y_train_all))"
   ]
  },
  {
   "cell_type": "markdown",
   "metadata": {},
   "source": [
    "#### Iteration 6"
   ]
  },
  {
   "cell_type": "code",
   "execution_count": 89,
   "metadata": {},
   "outputs": [],
   "source": [
    "X_test_features_r6 = X_test_features[~X_test_features.index.isin(df_r5.index)]\n",
    "np.max(clf_l.predict_proba(X_test_features_r6), axis=1)\n",
    "top10_r6 = full_test\\\n",
    "            .sort_values(by='pred_prob', ascending=False)\\\n",
    "            .rename(columns={'pred_label': 'labels'})\\\n",
    "            .head(11)\n",
    "df_r6 = top10_r6.drop(['pred_prob'],axis = 1)\n",
    "# add top 10%\n",
    "train_r6 = pd.DataFrame(\n",
    "    np.concatenate([df_r6, train_r5], axis=0), \n",
    "    columns=df_r6.columns)"
   ]
  },
  {
   "cell_type": "code",
   "execution_count": 90,
   "metadata": {},
   "outputs": [
    {
     "data": {
      "text/plain": [
       "(594, 29783)"
      ]
     },
     "execution_count": 90,
     "metadata": {},
     "output_type": "execute_result"
    }
   ],
   "source": [
    "# check dimension\n",
    "train_r6.shape"
   ]
  },
  {
   "cell_type": "code",
   "execution_count": 91,
   "metadata": {},
   "outputs": [],
   "source": [
    "X_training_r6 = train_r6.drop(['text', 'labels'], axis=1)\n",
    "X_training_r6, X_valid_r6, y_training_r6, y_valid_r6= train_test_split(\n",
    "    X_training_r6, train_r6['labels'], test_size=0.3, random_state=0)"
   ]
  },
  {
   "cell_type": "code",
   "execution_count": 92,
   "metadata": {},
   "outputs": [
    {
     "name": "stdout",
     "output_type": "stream",
     "text": [
      "C: 0.05\n",
      "Training accuracy: 0.21204819277108433\n",
      "Validation accuracy: 0.24581005586592178\n",
      "C: 1\n",
      "Training accuracy: 0.9662650602409638\n",
      "Validation accuracy: 0.4301675977653631\n",
      "C: 10\n",
      "Training accuracy: 0.9879518072289156\n",
      "Validation accuracy: 0.441340782122905\n",
      "C: 50\n",
      "Training accuracy: 0.9951807228915662\n",
      "Validation accuracy: 0.45251396648044695\n",
      "C: 640\n",
      "Training accuracy: 1.0\n",
      "Validation accuracy: 0.4748603351955307\n"
     ]
    }
   ],
   "source": [
    "# Create a scaler object\n",
    "sc = StandardScaler()\n",
    "# Fit the scaler to the training data and transform\n",
    "X_training_std_r6 = sc.fit_transform(X_training_r6)\n",
    "# Apply the scaler to the test data\n",
    "X_valid_std_r6 = sc.transform(X_valid_r6)\n",
    "C_r6 = [0.05, 1, 10, 50, 640]\n",
    "for c_r6 in C_r6:\n",
    "    clf_lr_r6 = LogisticRegression(penalty='l1', C=c_r6, solver= 'liblinear' ,max_iter =70, random_state= 13)\n",
    "    clf_lr_r6.fit(X_training_r6, y_training_r6)\n",
    "    print('C:', c_r6)\n",
    "    print('Training accuracy:', clf_lr_r6.score(X_training_std_r6, y_training_r6))\n",
    "    print('Validation accuracy:', clf_lr_r6.score(X_valid_std_r6, y_valid_r6))"
   ]
  },
  {
   "cell_type": "code",
   "execution_count": 93,
   "metadata": {},
   "outputs": [],
   "source": [
    "X_train_r6 = train_r6.drop(['text', 'labels'],axis = 1)\n",
    "y_train_r6 = train_r6['labels']"
   ]
  },
  {
   "cell_type": "code",
   "execution_count": 94,
   "metadata": {},
   "outputs": [
    {
     "name": "stdout",
     "output_type": "stream",
     "text": [
      "C: 50\n",
      "Training accuracy: 0.9810606060606061\n"
     ]
    }
   ],
   "source": [
    "X_train_std_r6 = sc.fit_transform(X_train_r6)\n",
    "clf_lr_r6 = LogisticRegression(penalty='l1', C=50, solver= 'liblinear' ,max_iter =70, random_state= 23)\n",
    "clf_lr_r6.fit(X_train_r6, y_train_r6)\n",
    "\n",
    "print('C:',50)\n",
    "print('Training accuracy:', clf_lr_r6.score(X_train_std_all, y_train_all))"
   ]
  },
  {
   "cell_type": "markdown",
   "metadata": {},
   "source": [
    "##### We can notice that the performance stays stable."
   ]
  },
  {
   "cell_type": "markdown",
   "metadata": {},
   "source": [
    "#### Iteration 7"
   ]
  },
  {
   "cell_type": "code",
   "execution_count": 95,
   "metadata": {},
   "outputs": [],
   "source": [
    "X_test_features_r7 = X_test_features[~X_test_features.index.isin(df_r6.index)]\n",
    "np.max(clf_l.predict_proba(X_test_features_r7), axis=1)\n",
    "top10_r7 = full_test\\\n",
    "            .sort_values(by='pred_prob', ascending=False)\\\n",
    "            .rename(columns={'pred_label': 'labels'})\\\n",
    "            .head(11)\n",
    "df_r7 = top10_r7.drop(['pred_prob'],axis = 1)\n",
    "# add top 10%\n",
    "train_r7 = pd.DataFrame(\n",
    "    np.concatenate([df_r7, train_r6], axis=0), \n",
    "    columns=df_r7.columns)"
   ]
  },
  {
   "cell_type": "code",
   "execution_count": 96,
   "metadata": {},
   "outputs": [
    {
     "data": {
      "text/plain": [
       "(605, 29783)"
      ]
     },
     "execution_count": 96,
     "metadata": {},
     "output_type": "execute_result"
    }
   ],
   "source": [
    "# check dimension\n",
    "train_r7.shape"
   ]
  },
  {
   "cell_type": "code",
   "execution_count": 97,
   "metadata": {},
   "outputs": [],
   "source": [
    "X_training_r7 = train_r7.drop(['text', 'labels'], axis=1)\n",
    "X_training_r7, X_valid_r7, y_training_r7, y_valid_r7= train_test_split(\n",
    "    X_training_r7, train_r7['labels'], test_size=0.3, random_state=0)"
   ]
  },
  {
   "cell_type": "code",
   "execution_count": 98,
   "metadata": {},
   "outputs": [
    {
     "name": "stdout",
     "output_type": "stream",
     "text": [
      "C: 0.05\n",
      "Training accuracy: 0.27423167848699764\n",
      "Validation accuracy: 0.23626373626373626\n",
      "C: 1\n",
      "Training accuracy: 0.9716312056737588\n",
      "Validation accuracy: 0.46703296703296704\n",
      "C: 10\n",
      "Training accuracy: 0.9952718676122931\n",
      "Validation accuracy: 0.46703296703296704\n",
      "C: 50\n",
      "Training accuracy: 0.9952718676122931\n",
      "Validation accuracy: 0.46703296703296704\n",
      "C: 640\n",
      "Training accuracy: 1.0\n",
      "Validation accuracy: 0.46703296703296704\n"
     ]
    }
   ],
   "source": [
    "# Create a scaler object\n",
    "sc = StandardScaler()\n",
    "# Fit the scaler to the training data and transform\n",
    "X_training_std_r7 = sc.fit_transform(X_training_r7)\n",
    "# Apply the scaler to the test data\n",
    "X_valid_std_r7 = sc.transform(X_valid_r7)\n",
    "C_r7 = [0.05, 1, 10, 50, 640]\n",
    "for c_r7 in C_r7:\n",
    "    clf_lr_r7 = LogisticRegression(penalty='l1', C=c_r7, solver= 'liblinear' ,max_iter =70, random_state= 13)\n",
    "    clf_lr_r7.fit(X_training_r7, y_training_r7)\n",
    "    print('C:', c_r7)\n",
    "    print('Training accuracy:', clf_lr_r7.score(X_training_std_r7, y_training_r7))\n",
    "    print('Validation accuracy:', clf_lr_r7.score(X_valid_std_r7, y_valid_r7))"
   ]
  },
  {
   "cell_type": "code",
   "execution_count": 99,
   "metadata": {},
   "outputs": [],
   "source": [
    "X_train_r7 = train_r7.drop(['text', 'labels'],axis = 1)\n",
    "y_train_r7 = train_r7['labels']"
   ]
  },
  {
   "cell_type": "code",
   "execution_count": 100,
   "metadata": {},
   "outputs": [
    {
     "name": "stdout",
     "output_type": "stream",
     "text": [
      "C: 10\n",
      "Training accuracy: 0.9810606060606061\n"
     ]
    }
   ],
   "source": [
    "X_train_std_r7 = sc.fit_transform(X_train_r7)\n",
    "clf_lr_r7 = LogisticRegression(penalty='l1', C=10, solver= 'liblinear' ,max_iter =70, random_state= 23)\n",
    "clf_lr_r7.fit(X_train_r7, y_train_r7)\n",
    "\n",
    "print('C:',10)\n",
    "print('Training accuracy:', clf_lr_r7.score(X_train_std_all, y_train_all))"
   ]
  },
  {
   "cell_type": "markdown",
   "metadata": {},
   "source": [
    "#### Iteration 8"
   ]
  },
  {
   "cell_type": "code",
   "execution_count": 101,
   "metadata": {},
   "outputs": [],
   "source": [
    "X_test_features_r8 = X_test_features[~X_test_features.index.isin(df_r7.index)]\n",
    "np.max(clf_l.predict_proba(X_test_features_r8), axis=1)\n",
    "top10_r8 = full_test\\\n",
    "            .sort_values(by='pred_prob', ascending=False)\\\n",
    "            .rename(columns={'pred_label': 'labels'})\\\n",
    "            .head(11)\n",
    "df_r8 = top10_r8.drop(['pred_prob'],axis = 1)\n",
    "# add top 10%\n",
    "train_r8 = pd.DataFrame(\n",
    "    np.concatenate([df_r8, train_r7], axis=0), \n",
    "    columns=df_r8.columns)"
   ]
  },
  {
   "cell_type": "code",
   "execution_count": 102,
   "metadata": {},
   "outputs": [
    {
     "data": {
      "text/plain": [
       "(616, 29783)"
      ]
     },
     "execution_count": 102,
     "metadata": {},
     "output_type": "execute_result"
    }
   ],
   "source": [
    "# check dimension\n",
    "train_r8.shape"
   ]
  },
  {
   "cell_type": "code",
   "execution_count": 103,
   "metadata": {},
   "outputs": [],
   "source": [
    "X_training_r8 = train_r8.drop(['text', 'labels'], axis=1)\n",
    "X_training_r8, X_valid_r8, y_training_r8, y_valid_r8= train_test_split(\n",
    "    X_training_r8, train_r8['labels'], test_size=0.3, random_state=0)"
   ]
  },
  {
   "cell_type": "code",
   "execution_count": 104,
   "metadata": {},
   "outputs": [
    {
     "name": "stdout",
     "output_type": "stream",
     "text": [
      "C: 0.05\n",
      "Training accuracy: 0.28074245939675174\n",
      "Validation accuracy: 0.2702702702702703\n",
      "C: 1\n",
      "Training accuracy: 0.9721577726218097\n",
      "Validation accuracy: 0.5513513513513514\n",
      "C: 10\n",
      "Training accuracy: 0.9837587006960556\n",
      "Validation accuracy: 0.5567567567567567\n",
      "C: 50\n",
      "Training accuracy: 0.9953596287703016\n",
      "Validation accuracy: 0.572972972972973\n",
      "C: 640\n",
      "Training accuracy: 1.0\n",
      "Validation accuracy: 0.5621621621621622\n"
     ]
    }
   ],
   "source": [
    "# Create a scaler object\n",
    "sc = StandardScaler()\n",
    "# Fit the scaler to the training data and transform\n",
    "X_training_std_r8 = sc.fit_transform(X_training_r8)\n",
    "# Apply the scaler to the test data\n",
    "X_valid_std_r8 = sc.transform(X_valid_r8)\n",
    "C_r8 = [0.05, 1, 10, 50, 640]\n",
    "for c_r8 in C_r8:\n",
    "    clf_lr_r8 = LogisticRegression(penalty='l1', C=c_r8, solver= 'liblinear' ,max_iter =70, random_state= 13)\n",
    "    clf_lr_r8.fit(X_training_r8, y_training_r8)\n",
    "    print('C:', c_r8)\n",
    "    print('Training accuracy:', clf_lr_r8.score(X_training_std_r8, y_training_r8))\n",
    "    print('Validation accuracy:', clf_lr_r8.score(X_valid_std_r8, y_valid_r8))"
   ]
  },
  {
   "cell_type": "code",
   "execution_count": 105,
   "metadata": {},
   "outputs": [],
   "source": [
    "X_train_r8 = train_r8.drop(['text', 'labels'],axis = 1)\n",
    "y_train_r8 = train_r8['labels']"
   ]
  },
  {
   "cell_type": "code",
   "execution_count": 106,
   "metadata": {},
   "outputs": [
    {
     "name": "stdout",
     "output_type": "stream",
     "text": [
      "C: 50\n",
      "Training accuracy: 0.9848484848484849\n"
     ]
    }
   ],
   "source": [
    "X_train_std_r8 = sc.fit_transform(X_train_r8)\n",
    "clf_lr_r8 = LogisticRegression(penalty='l1', C=50, solver= 'liblinear' ,max_iter =70, random_state= 23)\n",
    "clf_lr_r8.fit(X_train_r8, y_train_r8)\n",
    "\n",
    "print('C:',50)\n",
    "print('Training accuracy:', clf_lr_r8.score(X_train_std_all, y_train_all))"
   ]
  },
  {
   "cell_type": "markdown",
   "metadata": {},
   "source": [
    "#### Iteration 9"
   ]
  },
  {
   "cell_type": "code",
   "execution_count": 107,
   "metadata": {},
   "outputs": [],
   "source": [
    "X_test_features_r9 = X_test_features[~X_test_features.index.isin(df_r8.index)]\n",
    "np.max(clf_l.predict_proba(X_test_features_r9), axis=1)\n",
    "top10_r9 = full_test\\\n",
    "            .sort_values(by='pred_prob', ascending=False)\\\n",
    "            .rename(columns={'pred_label': 'labels'})\\\n",
    "            .head(11)\n",
    "df_r9 = top10_r9.drop(['pred_prob'],axis = 1)\n",
    "# add top 10%\n",
    "train_r9 = pd.DataFrame(\n",
    "    np.concatenate([df_r9, train_r8], axis=0), \n",
    "    columns=df_r9.columns)"
   ]
  },
  {
   "cell_type": "code",
   "execution_count": 108,
   "metadata": {},
   "outputs": [
    {
     "data": {
      "text/plain": [
       "(627, 29783)"
      ]
     },
     "execution_count": 108,
     "metadata": {},
     "output_type": "execute_result"
    }
   ],
   "source": [
    "# check dimension\n",
    "train_r9.shape"
   ]
  },
  {
   "cell_type": "code",
   "execution_count": 109,
   "metadata": {},
   "outputs": [],
   "source": [
    "X_training_r9 = train_r9.drop(['text', 'labels'], axis=1)\n",
    "X_training_r9, X_valid_r9, y_training_r9, y_valid_r9= train_test_split(\n",
    "    X_training_r9, train_r9['labels'], test_size=0.3, random_state=0)"
   ]
  },
  {
   "cell_type": "code",
   "execution_count": 110,
   "metadata": {},
   "outputs": [
    {
     "name": "stdout",
     "output_type": "stream",
     "text": [
      "C: 0.05\n",
      "Training accuracy: 0.2853881278538813\n",
      "Validation accuracy: 0.2804232804232804\n",
      "C: 1\n",
      "Training accuracy: 0.9680365296803652\n",
      "Validation accuracy: 0.48677248677248675\n",
      "C: 10\n",
      "Training accuracy: 0.9794520547945206\n",
      "Validation accuracy: 0.48677248677248675\n",
      "C: 50\n",
      "Training accuracy: 0.9794520547945206\n",
      "Validation accuracy: 0.48148148148148145\n",
      "C: 640\n",
      "Training accuracy: 1.0\n",
      "Validation accuracy: 0.5343915343915344\n"
     ]
    }
   ],
   "source": [
    "# Create a scaler object\n",
    "sc = StandardScaler()\n",
    "# Fit the scaler to the training data and transform\n",
    "X_training_std_r9 = sc.fit_transform(X_training_r9)\n",
    "# Apply the scaler to the test data\n",
    "X_valid_std_r9 = sc.transform(X_valid_r9)\n",
    "C_r9 = [0.05, 1, 10, 50, 640]\n",
    "for c_r9 in C_r9:\n",
    "    clf_lr_r9 = LogisticRegression(penalty='l1', C=c_r9, solver= 'liblinear' ,max_iter =70, random_state= 13)\n",
    "    clf_lr_r9.fit(X_training_r9, y_training_r9)\n",
    "    print('C:', c_r9)\n",
    "    print('Training accuracy:', clf_lr_r9.score(X_training_std_r9, y_training_r9))\n",
    "    print('Validation accuracy:', clf_lr_r9.score(X_valid_std_r9, y_valid_r9))"
   ]
  },
  {
   "cell_type": "code",
   "execution_count": 111,
   "metadata": {},
   "outputs": [],
   "source": [
    "X_train_r9 = train_r9.drop(['text', 'labels'],axis = 1)\n",
    "y_train_r9 = train_r9['labels']"
   ]
  },
  {
   "cell_type": "code",
   "execution_count": 112,
   "metadata": {},
   "outputs": [
    {
     "name": "stdout",
     "output_type": "stream",
     "text": [
      "C: 50\n",
      "Training accuracy: 0.9829545454545454\n"
     ]
    }
   ],
   "source": [
    "X_train_std_r9 = sc.fit_transform(X_train_r9)\n",
    "clf_lr_r9 = LogisticRegression(penalty='l1', C=50, solver= 'liblinear' ,max_iter =70, random_state= 23)\n",
    "clf_lr_r9.fit(X_train_r9, y_train_r9)\n",
    "\n",
    "print('C:',50)\n",
    "print('Training accuracy:', clf_lr_r9.score(X_train_std_all, y_train_all))"
   ]
  },
  {
   "cell_type": "markdown",
   "metadata": {},
   "source": [
    "#### Iteration 10"
   ]
  },
  {
   "cell_type": "code",
   "execution_count": 113,
   "metadata": {},
   "outputs": [],
   "source": [
    "X_test_features_r10 = X_test_features[~X_test_features.index.isin(df_r9.index)]\n",
    "np.max(clf_l.predict_proba(X_test_features_r10), axis=1)\n",
    "top10_r10 = full_test\\\n",
    "            .sort_values(by='pred_prob', ascending=False)\\\n",
    "            .rename(columns={'pred_label': 'labels'})\\\n",
    "            .head(11)\n",
    "df_r10 = top10_r10.drop(['pred_prob'],axis = 1)\n",
    "# add top 10%\n",
    "train_r10 = pd.DataFrame(\n",
    "    np.concatenate([df_r10, train_r9], axis=0), \n",
    "    columns=df_r10.columns)"
   ]
  },
  {
   "cell_type": "code",
   "execution_count": 114,
   "metadata": {},
   "outputs": [
    {
     "data": {
      "text/plain": [
       "(638, 29783)"
      ]
     },
     "execution_count": 114,
     "metadata": {},
     "output_type": "execute_result"
    }
   ],
   "source": [
    "# check dimension\n",
    "train_r10.shape"
   ]
  },
  {
   "cell_type": "code",
   "execution_count": 115,
   "metadata": {},
   "outputs": [],
   "source": [
    "X_training_r10 = train_r10.drop(['text', 'labels'], axis=1)\n",
    "X_training_r10, X_valid_r10, y_training_r10, y_valid_r10= train_test_split(\n",
    "    X_training_r10, train_r10['labels'], test_size=0.3, random_state=0)"
   ]
  },
  {
   "cell_type": "code",
   "execution_count": 116,
   "metadata": {
    "scrolled": false
   },
   "outputs": [
    {
     "name": "stdout",
     "output_type": "stream",
     "text": [
      "C: 0.05\n",
      "Training accuracy: 0.31614349775784756\n",
      "Validation accuracy: 0.328125\n",
      "C: 1\n",
      "Training accuracy: 0.9618834080717489\n",
      "Validation accuracy: 0.5208333333333334\n",
      "C: 10\n",
      "Training accuracy: 0.9865470852017937\n",
      "Validation accuracy: 0.5052083333333334\n",
      "C: 50\n",
      "Training accuracy: 0.9887892376681614\n",
      "Validation accuracy: 0.5416666666666666\n",
      "C: 640\n",
      "Training accuracy: 0.9977578475336323\n",
      "Validation accuracy: 0.5885416666666666\n"
     ]
    }
   ],
   "source": [
    "# Create a scaler object\n",
    "sc = StandardScaler()\n",
    "# Fit the scaler to the training data and transform\n",
    "X_training_std_r10 = sc.fit_transform(X_training_r10)\n",
    "# Apply the scaler to the test data\n",
    "X_valid_std_r10 = sc.transform(X_valid_r10)\n",
    "C_r10 = [0.05, 1, 10, 50, 640]\n",
    "for c_r10 in C_r10:\n",
    "    clf_lr_r10 = LogisticRegression(penalty='l1', C=c_r10, solver= 'liblinear' ,max_iter =70, random_state= 13)\n",
    "    clf_lr_r10.fit(X_training_r10, y_training_r10)\n",
    "    print('C:', c_r10)\n",
    "    print('Training accuracy:', clf_lr_r10.score(X_training_std_r10, y_training_r10))\n",
    "    print('Validation accuracy:', clf_lr_r10.score(X_valid_std_r10, y_valid_r10))"
   ]
  },
  {
   "cell_type": "code",
   "execution_count": 117,
   "metadata": {},
   "outputs": [],
   "source": [
    "X_train_r10 = train_r10.drop(['text', 'labels'],axis = 1)\n",
    "y_train_r10 = train_r10['labels']"
   ]
  },
  {
   "cell_type": "code",
   "execution_count": 118,
   "metadata": {},
   "outputs": [
    {
     "name": "stdout",
     "output_type": "stream",
     "text": [
      "C: 50\n",
      "Training accuracy: 0.9829545454545454\n"
     ]
    }
   ],
   "source": [
    "X_train_std_r10 = sc.fit_transform(X_train_r10)\n",
    "clf_lr_r10 = LogisticRegression(penalty='l1', C=50, solver= 'liblinear' ,max_iter =70, random_state= 23)\n",
    "clf_lr_r10.fit(X_train_r10, y_train_r10)\n",
    "\n",
    "print('C:',50)\n",
    "print('Training accuracy:', clf_lr_r10.score(X_train_std_all, y_train_all))"
   ]
  },
  {
   "cell_type": "markdown",
   "metadata": {},
   "source": [
    "#### plot the results"
   ]
  },
  {
   "cell_type": "code",
   "execution_count": 119,
   "metadata": {},
   "outputs": [],
   "source": [
    "x_lists = [0,10,20,30,40,50,60,70,80,90,100]\n",
    "accuracy_lists = [0.8522727272727273,0.9810606060606061,0.9829545454545454,0.9621212121212122, 0.9621212121212122\n",
    "                 ,0.9848484848484849,0.9810606060606061,0.9810606060606061, 0.9848484848484849\n",
    "                 ,0.9829545454545454,0.9829545454545454]\n"
   ]
  },
  {
   "cell_type": "code",
   "execution_count": 120,
   "metadata": {},
   "outputs": [
    {
     "data": {
      "image/png": "[encoded data removed]",
      "text/plain": [
       "<Figure size 432x288 with 1 Axes>"
      ]
     },
     "metadata": {
      "needs_background": "light"
     },
     "output_type": "display_data"
    }
   ],
   "source": [
    "# importing the required module \n",
    "import matplotlib.pyplot as plt \n",
    "  \n",
    "# x axis values \n",
    "x = x_lists\n",
    "# corresponding y axis values \n",
    "y = accuracy_lists \n",
    "  \n",
    "# plotting the points  \n",
    "plt.plot(x, y) \n",
    "  \n",
    "# naming the x axis \n",
    "plt.xlabel('percentage of adding test data') \n",
    "# naming the y axis \n",
    "plt.ylabel('Accuracy') \n",
    "  \n",
    "# giving a title to my graph \n",
    "plt.title('Accuracy vs. adding test data') \n",
    "  \n",
    "# function to show the plot \n",
    "plt.show()"
   ]
  },
  {
   "cell_type": "markdown",
   "metadata": {},
   "source": [
    "##### From the plot, we can see that there is a sharp increase when adding first top 10% of test data, then the trend of graph stays stable. So I think we can't say that the more data we add to the training data, the higher the performance.  It also shows that semi_supervised doesn't guarantee the performance increase."
   ]
  },
  {
   "cell_type": "markdown",
   "metadata": {},
   "source": [
    "## #16"
   ]
  },
  {
   "cell_type": "code",
   "execution_count": 121,
   "metadata": {},
   "outputs": [],
   "source": [
    "y_test_pred_final = clf_lr_r10.predict(X_test)"
   ]
  },
  {
   "cell_type": "code",
   "execution_count": 122,
   "metadata": {},
   "outputs": [],
   "source": [
    "col_1 = [f'test_{i+1}.txt' for i in range(111)]\n",
    "col_2 = y_test_labels\n",
    "col_3 = y_test_pred_final"
   ]
  },
  {
   "cell_type": "code",
   "execution_count": 123,
   "metadata": {},
   "outputs": [],
   "source": [
    "df_txt = pd.DataFrame({'filename':col_1, 'label_1':col_2, 'label_2': col_3})"
   ]
  },
  {
   "cell_type": "code",
   "execution_count": 124,
   "metadata": {},
   "outputs": [],
   "source": [
    "#SAVE THE FILE\n",
    "df_txt.to_csv('/Users/chensong/UW/2020spring/575B/Problem_set/problemset3/test_labels.txt',header=True, index=False, sep='\\t', mode='a')\n",
    "\n",
    "\n",
    "\n"
   ]
  }
 ],
 "metadata": {
  "kernelspec": {
   "display_name": "Python 3",
   "language": "python",
   "name": "python3"
  },
  "language_info": {
   "codemirror_mode": {
    "name": "ipython",
    "version": 3
   },
   "file_extension": ".py",
   "mimetype": "text/x-python",
   "name": "python",
   "nbconvert_exporter": "python",
   "pygments_lexer": "ipython3",
   "version": "3.7.4"
  }
 },
 "nbformat": 4,
 "nbformat_minor": 4
}
